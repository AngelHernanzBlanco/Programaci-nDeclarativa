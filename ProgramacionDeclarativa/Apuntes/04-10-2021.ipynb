{
 "cells": [
  {
   "cell_type": "code",
   "execution_count": 19,
   "metadata": {},
   "outputs": [
    {
     "data": {
      "text/plain": [
       "\u001b[32mimport \u001b[39m\u001b[36m$ivy.$                               \n",
       "\u001b[39m\n",
       "\u001b[32mimport \u001b[39m\u001b[36morg.scalatest._\n",
       "\n",
       "\u001b[39m\n",
       "defined \u001b[32mclass\u001b[39m \u001b[36mTestInsertLast\u001b[39m"
      ]
     },
     "execution_count": 19,
     "metadata": {},
     "output_type": "execute_result"
    }
   ],
   "source": [
    "//INSERTAR UN ELEMENTO EN UNA LISTA\n",
    "\n",
    "import $ivy.`org.scalatest::scalatest:3.0.8`\n",
    "import org.scalatest._\n",
    "\n",
    "class TestInsertLast(insertLast: (List[Int], Int) => List[Int]) \n",
    "extends FlatSpec with Matchers{\n",
    "    \"insertLast\" should \"work\" in {\n",
    "        insertLast(List(), 6) shouldBe List(6)\n",
    "        insertLast(List(1), 1) shouldBe List(1,1)\n",
    "        insertLast(List(1,2,3,4), 4) shouldBe List(1,2,3,4,4)\n",
    "    }\n",
    "}"
   ]
  },
  {
   "cell_type": "code",
   "execution_count": 3,
   "metadata": {},
   "outputs": [
    {
     "data": {
      "text/plain": [
       "\u001b[36mres2\u001b[39m: \u001b[32mList\u001b[39m[\u001b[32mInt\u001b[39m] = \u001b[33mList\u001b[39m(\u001b[32m1\u001b[39m, \u001b[32m2\u001b[39m, \u001b[32m3\u001b[39m, \u001b[32m4\u001b[39m)"
      ]
     },
     "execution_count": 3,
     "metadata": {},
     "output_type": "execute_result"
    }
   ],
   "source": [
    "List(1,2,3) :+ 4 /*para meter el 4 en última posicion(metodo de Scala)*/"
   ]
  },
  {
   "cell_type": "code",
   "execution_count": 7,
   "metadata": {},
   "outputs": [
    {
     "data": {
      "text/plain": [
       "defined \u001b[32mfunction\u001b[39m \u001b[36minsertLast\u001b[39m"
      ]
     },
     "execution_count": 7,
     "metadata": {},
     "output_type": "execute_result"
    }
   ],
   "source": [
    "def insertLast[A](list: List[A], a : A) : List[A]=\n",
    "    list match{\n",
    "        case Nil => List(a)\n",
    "        case head::tail => head :: insertLast(tail, a)  /*El head se pone para no perder la cabeza de la lista*/\n",
    "    }"
   ]
  },
  {
   "cell_type": "code",
   "execution_count": 15,
   "metadata": {},
   "outputs": [
    {
     "name": "stdout",
     "output_type": "stream",
     "text": [
      "\u001b[32mcmd1$Helper$TestInsertLast:\u001b[0m\n",
      "\u001b[32minsertLast\u001b[0m\n",
      "\u001b[32m- should work\u001b[0m\n"
     ]
    }
   ],
   "source": [
    "run(new TestInsertLast(insertLast))\n"
   ]
  },
  {
   "cell_type": "code",
   "execution_count": 9,
   "metadata": {},
   "outputs": [
    {
     "data": {
      "text/plain": [
       "defined \u001b[32mclass\u001b[39m \u001b[36mTestReverse\u001b[39m"
      ]
     },
     "execution_count": 9,
     "metadata": {},
     "output_type": "execute_result"
    }
   ],
   "source": [
    "//INVERTIR UNA LISTA\n",
    "\n",
    "class TestReverse(reverse: List[Int] => List[Int]) extends FlatSpec with Matchers{\n",
    "    \"reverse\" should \"work\" in {\n",
    "        reverse(List()) shouldBe List()\n",
    "        reverse(List(1)) shouldBe List(1)\n",
    "        reverse(List(1,2,3)) shouldBe List(3,2,1)\n",
    "    }\n",
    "}"
   ]
  },
  {
   "cell_type": "code",
   "execution_count": 10,
   "metadata": {
    "scrolled": false
   },
   "outputs": [
    {
     "data": {
      "text/plain": [
       "defined \u001b[32mfunction\u001b[39m \u001b[36mreverseR\u001b[39m"
      ]
     },
     "execution_count": 10,
     "metadata": {},
     "output_type": "execute_result"
    }
   ],
   "source": [
    "def reverseR[A](list:List[A]):List[A]=\n",
    "    list match{\n",
    "        case Nil => Nil\n",
    "        case head::tail => reverseR(tail) :+ head  // No es recursiva por la cola ==> Es muy ineficiente\n",
    "    }"
   ]
  },
  {
   "cell_type": "code",
   "execution_count": 14,
   "metadata": {},
   "outputs": [
    {
     "data": {
      "text/plain": [
       "defined \u001b[32mfunction\u001b[39m \u001b[36mreverseRF\u001b[39m"
      ]
     },
     "execution_count": 14,
     "metadata": {},
     "output_type": "execute_result"
    }
   ],
   "source": [
    "def reverseRF[A](list:List[A]):List[A]={\n",
    "    def reverseAux(out:List[A], aux:List[A]):List[A]=\n",
    "        aux match{\n",
    "            case Nil => out\n",
    "            case head::tail => reverseAux(head::out, tail)\n",
    "        }\n",
    "     reverseAux(List(), list)      \n",
    "}"
   ]
  },
  {
   "cell_type": "code",
   "execution_count": 15,
   "metadata": {},
   "outputs": [],
   "source": [
    "//ARBOLES BINARIOS"
   ]
  },
  {
   "cell_type": "code",
   "execution_count": 16,
   "metadata": {},
   "outputs": [
    {
     "data": {
      "text/plain": [
       "defined \u001b[32mclass\u001b[39m \u001b[36mTree\u001b[39m\n",
       "defined \u001b[32mclass\u001b[39m \u001b[36mEmpty\u001b[39m\n",
       "defined \u001b[32mclass\u001b[39m \u001b[36mNode\u001b[39m"
      ]
     },
     "execution_count": 16,
     "metadata": {},
     "output_type": "execute_result"
    }
   ],
   "source": [
    "sealed abstract class Tree[A]\n",
    "    case class Empty[A]() extends Tree[A]\n",
    "    case class Node[A](\n",
    "        left: Tree[A],\n",
    "        root: A,\n",
    "        rigth: Tree[A]) extends Tree[A]"
   ]
  },
  {
   "cell_type": "code",
   "execution_count": 18,
   "metadata": {},
   "outputs": [
    {
     "data": {
      "text/plain": [
       "defined \u001b[32mobject\u001b[39m \u001b[36mTree\u001b[39m"
      ]
     },
     "execution_count": 18,
     "metadata": {},
     "output_type": "execute_result"
    }
   ],
   "source": [
    "object Tree{\n",
    "    \n",
    "    def void[A]:Tree[A]=\n",
    "        Empty()\n",
    "    \n",
    "    def leaf[A](a:A):Node[A]=\n",
    "        Node(Empty(), a, Empty())\n",
    "    \n",
    "    def rigth[A](a:A, tree:Tree[A]):Node[A]=\n",
    "        ???\n",
    "        \n",
    "}"
   ]
  },
  {
   "cell_type": "code",
   "execution_count": 18,
   "metadata": {},
   "outputs": [
    {
     "name": "stderr",
     "output_type": "stream",
     "text": [
      "cmd18.sc:7: overloaded method value + with alternatives:\n",
      "  (x: Double)Double <and>\n",
      "  (x: Float)Float <and>\n",
      "  (x: Long)Long <and>\n",
      "  (x: Int)Int <and>\n",
      "  (x: Char)Int <and>\n",
      "  (x: Short)Int <and>\n",
      "  (x: Byte)Int <and>\n",
      "  (x: String)String\n",
      " cannot be applied to (A)\n",
      "            numNodesLeft+ e + numNodesRigth\n",
      "                        ^Compilation Failed"
     ]
    },
    {
     "ename": "",
     "evalue": "",
     "output_type": "error",
     "traceback": [
      "Compilation Failed"
     ]
    }
   ],
   "source": [
    "def numNodes[A](tree:Tree[A]):Int=\n",
    "    tree match{\n",
    "        case Empty() =>0:Int\n",
    "        case Node(l, e, r)=> \n",
    "            val numNodesRigth = numNodes(r);\n",
    "            val numNodesLeft = numNodes(l);\n",
    "            numNodesLeft+ e + numNodesRigth\n",
    "    }"
   ]
  },
  {
   "cell_type": "code",
   "execution_count": null,
   "metadata": {},
   "outputs": [],
   "source": []
  }
 ],
 "metadata": {
  "kernelspec": {
   "display_name": "Scala 2.12",
   "language": "scala",
   "name": "scala212"
  },
  "language_info": {
   "codemirror_mode": "text/x-scala",
   "file_extension": ".sc",
   "mimetype": "text/x-scala",
   "name": "scala",
   "nbconvert_exporter": "script",
   "version": "2.12.12"
  }
 },
 "nbformat": 4,
 "nbformat_minor": 4
}
