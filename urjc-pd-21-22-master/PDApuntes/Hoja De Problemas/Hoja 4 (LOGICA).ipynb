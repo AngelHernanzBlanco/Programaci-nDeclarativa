{
 "cells": [
  {
   "cell_type": "code",
   "execution_count": 1,
   "metadata": {},
   "outputs": [
    {
     "data": {
      "text/plain": [
       "defined \u001b[32mtype\u001b[39m \u001b[36mNot\u001b[39m\n",
       "defined \u001b[32mtype\u001b[39m \u001b[36m<=>\u001b[39m"
      ]
     },
     "execution_count": 1,
     "metadata": {},
     "output_type": "execute_result"
    }
   ],
   "source": [
    "type Not[P] = P => Nothing\n",
    "type <=> [P, Q] = (P => Q, Q => P)"
   ]
  },
  {
   "cell_type": "code",
   "execution_count": null,
   "metadata": {},
   "outputs": [],
   "source": [
    "//EJERCICIO 1"
   ]
  },
  {
   "cell_type": "code",
   "execution_count": null,
   "metadata": {},
   "outputs": [],
   "source": [
    "//APARTADO 1"
   ]
  },
  {
   "cell_type": "code",
   "execution_count": 13,
   "metadata": {},
   "outputs": [
    {
     "data": {
      "text/plain": [
       "defined \u001b[32mfunction\u001b[39m \u001b[36mproof\u001b[39m"
      ]
     },
     "execution_count": 13,
     "metadata": {},
     "output_type": "execute_result"
    }
   ],
   "source": [
    "def proof[P, Q, R]: Either[P, (Q, R)] <=> (Either[P, Q], Either[P, R]) =\n",
    "    ??? : (Either[P, (Q, R)] <=> (Either[P, Q], Either[P, R]))\n",
    "    "
   ]
  },
  {
   "cell_type": "code",
   "execution_count": 14,
   "metadata": {},
   "outputs": [
    {
     "data": {
      "text/plain": [
       "defined \u001b[32mfunction\u001b[39m \u001b[36mproof\u001b[39m"
      ]
     },
     "execution_count": 14,
     "metadata": {},
     "output_type": "execute_result"
    }
   ],
   "source": [
    "def proof[P, Q, R]: Either[P, (Q, R)] <=> (Either[P, Q], Either[P, R]) =\n",
    "    ??? : (Either[P, (Q, R)] => (Either[P, Q], Either[P, R]) , \n",
    "          ((Either[P, Q], Either[P, R])) => Either[P, (Q, R)])"
   ]
  },
  {
   "cell_type": "code",
   "execution_count": 15,
   "metadata": {},
   "outputs": [
    {
     "data": {
      "text/plain": [
       "defined \u001b[32mfunction\u001b[39m \u001b[36mproof\u001b[39m"
      ]
     },
     "execution_count": 15,
     "metadata": {},
     "output_type": "execute_result"
    }
   ],
   "source": [
    "def proof[P, Q, R]: Either[P, (Q, R)] <=> (Either[P, Q], Either[P, R]) =\n",
    "    (??? : Either[P, (Q, R)] => (Either[P, Q], Either[P, R]), \n",
    "     ??? : ((Either[P, Q], Either[P, R])) => Either[P, (Q, R)]) "
   ]
  },
  {
   "cell_type": "code",
   "execution_count": 18,
   "metadata": {},
   "outputs": [
    {
     "data": {
      "text/plain": [
       "defined \u001b[32mfunction\u001b[39m \u001b[36mproof\u001b[39m"
      ]
     },
     "execution_count": 18,
     "metadata": {},
     "output_type": "execute_result"
    }
   ],
   "source": [
    "def proof[P, Q, R]: Either[P, (Q, R)] <=> (Either[P, Q], Either[P, R]) =\n",
    "    (\n",
    "        (f1 : Either[P, (Q, R)]) => \n",
    "            (??? : Either[P, Q], ??? : Either[P, R]), \n",
    "     \n",
    "     \n",
    "     \n",
    "     \n",
    "     (??? : ((Either[P, Q], Either[P, R])) => Either[P, (Q, R)]) )"
   ]
  },
  {
   "cell_type": "code",
   "execution_count": 19,
   "metadata": {},
   "outputs": [
    {
     "data": {
      "text/plain": [
       "defined \u001b[32mfunction\u001b[39m \u001b[36mproof\u001b[39m"
      ]
     },
     "execution_count": 19,
     "metadata": {},
     "output_type": "execute_result"
    }
   ],
   "source": [
    "def proof[P, Q, R]: Either[P, (Q, R)] <=> (Either[P, Q], Either[P, R]) =\n",
    "    (\n",
    "        (f1 : Either[P, (Q, R)]) => \n",
    "            f1 match{\n",
    "                case Left(p : P) => \n",
    "                    (??? : Either[P, Q], ??? : Either[P, R])\n",
    "                case Right(qr : (Q, R)) => \n",
    "                    (??? : Either[P, Q], ??? : Either[P, R])\n",
    "            } , \n",
    "            (??? : ((Either[P, Q], Either[P, R])) => Either[P, (Q, R)]) )"
   ]
  },
  {
   "cell_type": "code",
   "execution_count": 22,
   "metadata": {},
   "outputs": [
    {
     "data": {
      "text/plain": [
       "defined \u001b[32mfunction\u001b[39m \u001b[36mproof\u001b[39m"
      ]
     },
     "execution_count": 22,
     "metadata": {},
     "output_type": "execute_result"
    }
   ],
   "source": [
    "def proof[P, Q, R]: Either[P, (Q, R)] <=> (Either[P, Q], Either[P, R]) =\n",
    "    (\n",
    "        (f1 : Either[P, (Q, R)]) => \n",
    "            f1 match{\n",
    "                case Left(p : P) => \n",
    "                    (Left(p) : Either[P, Q], Left(p) : Either[P, R])\n",
    "                \n",
    "                case Right(qr : (Q, R)) => \n",
    "                    (Right(qr._1) : Either[P, Q], Right(qr._2) : Either[P, R])\n",
    "        } , \n",
    "\n",
    "     (??? : ((Either[P, Q], Either[P, R])) => Either[P, (Q, R)]) )"
   ]
  },
  {
   "cell_type": "code",
   "execution_count": 23,
   "metadata": {},
   "outputs": [
    {
     "data": {
      "text/plain": [
       "defined \u001b[32mfunction\u001b[39m \u001b[36mproof\u001b[39m"
      ]
     },
     "execution_count": 23,
     "metadata": {},
     "output_type": "execute_result"
    }
   ],
   "source": [
    "def proof[P, Q, R]: Either[P, (Q, R)] <=> (Either[P, Q], Either[P, R]) =\n",
    "    (\n",
    "        (f1 : Either[P, (Q, R)]) => \n",
    "            f1 match{\n",
    "                case Left(p : P) => \n",
    "                    (Left(p) : Either[P, Q], Left(p) : Either[P, R])\n",
    "                \n",
    "                case Right(qr : (Q, R)) => \n",
    "                    (Right(qr._1) : Either[P, Q], Right(qr._2) : Either[P, R])\n",
    "        } , \n",
    "\n",
    "         (f2 : (Either[P, Q], Either[P, R])) => ??? : Either[P, (Q, R)]) "
   ]
  },
  {
   "cell_type": "code",
   "execution_count": 23,
   "metadata": {},
   "outputs": [
    {
     "name": "stderr",
     "output_type": "stream",
     "text": [
      "(console):18:13 expected \")\"\n",
      "            Left(f2._1 : P) : Either[P, (Q, R)]) \n",
      "            ^"
     ]
    },
    {
     "ename": "",
     "evalue": "",
     "output_type": "error",
     "traceback": [
      "(console):18:13 expected \")\"\n            Left(f2._1 : P) : Either[P, (Q, R)]) \n            ^"
     ]
    }
   ],
   "source": [
    "def proof[P, Q, R]: Either[P, (Q, R)] <=> (Either[P, Q], Either[P, R]) =\n",
    "    (\n",
    "        (f1 : Either[P, (Q, R)]) => \n",
    "            f1 match{\n",
    "                case Left(p : P) => \n",
    "                    (Left(p) : Either[P, Q], Left(p) : Either[P, R])\n",
    "                \n",
    "                case Right(qr : (Q, R)) => \n",
    "                    (Right(qr._1) : Either[P, Q], Right(qr._2) : Either[P, R])\n",
    "        } , \n",
    "\n",
    "         (f2 : (Either[P, Q], Either[P, R])) =>\n",
    "            f2._1 match{\n",
    "                case Left(p : P) => ???\n",
    "                \n",
    "                case Right(q : Q) => ???\n",
    "            }\n",
    "            Left(f2._1 : P) : Either[P, (Q, R)]) "
   ]
  },
  {
   "cell_type": "code",
   "execution_count": null,
   "metadata": {},
   "outputs": [],
   "source": []
  },
  {
   "cell_type": "code",
   "execution_count": null,
   "metadata": {},
   "outputs": [],
   "source": []
  },
  {
   "cell_type": "code",
   "execution_count": null,
   "metadata": {},
   "outputs": [],
   "source": [
    "//APARTADO 5"
   ]
  },
  {
   "cell_type": "code",
   "execution_count": 5,
   "metadata": {},
   "outputs": [
    {
     "data": {
      "text/plain": [
       "defined \u001b[32mfunction\u001b[39m \u001b[36mproof\u001b[39m"
      ]
     },
     "execution_count": 5,
     "metadata": {},
     "output_type": "execute_result"
    }
   ],
   "source": [
    "def proof[P, Q]: (P => Not[Q]) => (P => Q) => Not[P] = \n",
    "    ??? : ((P => Not[Q]) => (P => Q) => Not[P]) "
   ]
  },
  {
   "cell_type": "code",
   "execution_count": 6,
   "metadata": {},
   "outputs": [
    {
     "data": {
      "text/plain": [
       "defined \u001b[32mfunction\u001b[39m \u001b[36mproof\u001b[39m"
      ]
     },
     "execution_count": 6,
     "metadata": {},
     "output_type": "execute_result"
    }
   ],
   "source": [
    "def proof[P, Q]: (P => Not[Q]) => (P => Q) => Not[P] = \n",
    "    (p1: P => Not[Q]) => \n",
    "        ??? : (P => Q) => Not[P]"
   ]
  },
  {
   "cell_type": "code",
   "execution_count": 7,
   "metadata": {},
   "outputs": [
    {
     "data": {
      "text/plain": [
       "defined \u001b[32mfunction\u001b[39m \u001b[36mproof\u001b[39m"
      ]
     },
     "execution_count": 7,
     "metadata": {},
     "output_type": "execute_result"
    }
   ],
   "source": [
    "def proof[P, Q]: (P => Not[Q]) => (P => Q) => Not[P] = \n",
    "    (p1: P => Not[Q]) => \n",
    "        (p2: (P => Q)) => ??? : Not[P]"
   ]
  },
  {
   "cell_type": "code",
   "execution_count": 8,
   "metadata": {},
   "outputs": [
    {
     "data": {
      "text/plain": [
       "defined \u001b[32mfunction\u001b[39m \u001b[36mproof\u001b[39m"
      ]
     },
     "execution_count": 8,
     "metadata": {},
     "output_type": "execute_result"
    }
   ],
   "source": [
    "def proof[P, Q]: (P => Not[Q]) => (P => Q) => Not[P] = \n",
    "    (p1: P => Not[Q]) => \n",
    "        (p2: (P => Q)) => \n",
    "            (??? : P) => Nothing"
   ]
  },
  {
   "cell_type": "code",
   "execution_count": 9,
   "metadata": {},
   "outputs": [
    {
     "data": {
      "text/plain": [
       "defined \u001b[32mfunction\u001b[39m \u001b[36mproof\u001b[39m"
      ]
     },
     "execution_count": 9,
     "metadata": {},
     "output_type": "execute_result"
    }
   ],
   "source": [
    "def proof[P, Q]: (P => Not[Q]) => (P => Q) => Not[P] = \n",
    "    (p1: P => Not[Q]) => \n",
    "        (p2: (P => Q)) => \n",
    "            (p : P) => ??? : Nothing"
   ]
  },
  {
   "cell_type": "code",
   "execution_count": 11,
   "metadata": {},
   "outputs": [
    {
     "data": {
      "text/plain": [
       "defined \u001b[32mfunction\u001b[39m \u001b[36mproof\u001b[39m"
      ]
     },
     "execution_count": 11,
     "metadata": {},
     "output_type": "execute_result"
    }
   ],
   "source": [
    "def proof[P, Q]: (P => Not[Q]) => (P => Q) => Not[P] = \n",
    "    (p1: P => Q => Nothing) => \n",
    "        (p2: (P => Q)) => \n",
    "            (p : P) => p1(p)(p2(p)) //la funcion p1(p) nos devuelve una funcion Q => Nothing\n",
    "                                    //Añadimos el parametro p2(p) que nos devuelve Q\n",
    "                                    //De esta manera obtenemos el parametro Q para Q => Nothing"
   ]
  },
  {
   "cell_type": "code",
   "execution_count": null,
   "metadata": {},
   "outputs": [],
   "source": []
  },
  {
   "cell_type": "code",
   "execution_count": 12,
   "metadata": {},
   "outputs": [
    {
     "data": {
      "text/plain": [
       "defined \u001b[32mfunction\u001b[39m \u001b[36mproof\u001b[39m"
      ]
     },
     "execution_count": 12,
     "metadata": {},
     "output_type": "execute_result"
    }
   ],
   "source": [
    "//Apartado 8\n",
    "//Paso 1\n",
    "def proof[P, Q]: Not[P] => Not[(P, Q)] = \n",
    "    ??? : (Not[P] => Not[(P, Q)])"
   ]
  },
  {
   "cell_type": "code",
   "execution_count": 13,
   "metadata": {},
   "outputs": [
    {
     "data": {
      "text/plain": [
       "defined \u001b[32mfunction\u001b[39m \u001b[36mproof\u001b[39m"
      ]
     },
     "execution_count": 13,
     "metadata": {},
     "output_type": "execute_result"
    }
   ],
   "source": [
    "//Paso 2\n",
    "def proof[P, Q]: Not[P] => Not[(P, Q)] = \n",
    "    (notP: Not[P]) => \n",
    "        ??? : Not[(P, Q)]"
   ]
  },
  {
   "cell_type": "code",
   "execution_count": 14,
   "metadata": {},
   "outputs": [
    {
     "data": {
      "text/plain": [
       "defined \u001b[32mfunction\u001b[39m \u001b[36mproof\u001b[39m"
      ]
     },
     "execution_count": 14,
     "metadata": {},
     "output_type": "execute_result"
    }
   ],
   "source": [
    "//Paso 3\n",
    "def proof[P, Q]: Not[P] => Not[(P, Q)] = \n",
    "    (notP: P => Nothing) => \n",
    "        ??? : ((P, Q)) => Nothing "
   ]
  },
  {
   "cell_type": "code",
   "execution_count": 15,
   "metadata": {},
   "outputs": [
    {
     "data": {
      "text/plain": [
       "defined \u001b[32mfunction\u001b[39m \u001b[36mproof\u001b[39m"
      ]
     },
     "execution_count": 15,
     "metadata": {},
     "output_type": "execute_result"
    }
   ],
   "source": [
    "//Paso 4\n",
    "def proof[P, Q]: Not[P] => Not[(P, Q)] = \n",
    "    (notP: P => Nothing) => \n",
    "        (pAndq :(P, Q)) => \n",
    "            ??? : Nothing "
   ]
  },
  {
   "cell_type": "code",
   "execution_count": 17,
   "metadata": {},
   "outputs": [
    {
     "data": {
      "text/plain": [
       "defined \u001b[32mfunction\u001b[39m \u001b[36mproof\u001b[39m"
      ]
     },
     "execution_count": 17,
     "metadata": {},
     "output_type": "execute_result"
    }
   ],
   "source": [
    "//Paso 5\n",
    "def proof[P, Q]: Not[P] => Not[(P, Q)] = \n",
    "    (notP: P => Nothing) => \n",
    "        (pAndq :(P, Q)) => \n",
    "            notP(??? : P) : Nothing "
   ]
  },
  {
   "cell_type": "code",
   "execution_count": 18,
   "metadata": {},
   "outputs": [
    {
     "data": {
      "text/plain": [
       "defined \u001b[32mfunction\u001b[39m \u001b[36mproof\u001b[39m"
      ]
     },
     "execution_count": 18,
     "metadata": {},
     "output_type": "execute_result"
    }
   ],
   "source": [
    "//Paso 6\n",
    "def proof[P, Q]: Not[P] => Not[(P, Q)] = \n",
    "    (notP: P => Nothing) => \n",
    "        (pAndq :(P, Q)) => \n",
    "            notP(pAndq._1) : Nothing "
   ]
  },
  {
   "cell_type": "code",
   "execution_count": 19,
   "metadata": {},
   "outputs": [
    {
     "data": {
      "text/plain": [
       "defined \u001b[32mfunction\u001b[39m \u001b[36mproof\u001b[39m"
      ]
     },
     "execution_count": 19,
     "metadata": {},
     "output_type": "execute_result"
    }
   ],
   "source": [
    "//Apartado 9\n",
    "//Paso 1\n",
    "def proof[P, Q]: Not[(P, Q)] => P => Not[Q] = \n",
    "    ??? : (Not[(P, Q)] => P => Not[Q])"
   ]
  },
  {
   "cell_type": "code",
   "execution_count": 20,
   "metadata": {},
   "outputs": [
    {
     "data": {
      "text/plain": [
       "defined \u001b[32mfunction\u001b[39m \u001b[36mproof\u001b[39m"
      ]
     },
     "execution_count": 20,
     "metadata": {},
     "output_type": "execute_result"
    }
   ],
   "source": [
    "//Paso 2\n",
    "def proof[P, Q]: Not[(P, Q)] => P => Not[Q] = \n",
    "    (notPandQ : ((P, Q)) => Nothing) => \n",
    "        ??? : (P => Not[Q])"
   ]
  },
  {
   "cell_type": "code",
   "execution_count": 24,
   "metadata": {},
   "outputs": [
    {
     "data": {
      "text/plain": [
       "defined \u001b[32mfunction\u001b[39m \u001b[36mproof\u001b[39m"
      ]
     },
     "execution_count": 24,
     "metadata": {},
     "output_type": "execute_result"
    }
   ],
   "source": [
    "//Paso 3\n",
    "def proof[P, Q]: Not[(P, Q)] => P => Not[Q] = \n",
    "    (notPandQ : ((P, Q)) => Nothing) => \n",
    "        (p : P) => ??? : Q => Nothing"
   ]
  },
  {
   "cell_type": "code",
   "execution_count": null,
   "metadata": {},
   "outputs": [],
   "source": [
    "//Paso 4\n",
    "def proof[P, Q]: Not[(P, Q)] => P => Not[Q] = \n",
    "    (notPandQ : ((P, Q)) => Nothing) => \n",
    "        (p : P) => \n",
    "            (q : Q) => ??? : Nothing"
   ]
  },
  {
   "cell_type": "code",
   "execution_count": 25,
   "metadata": {},
   "outputs": [
    {
     "data": {
      "text/plain": [
       "defined \u001b[32mfunction\u001b[39m \u001b[36mproof\u001b[39m"
      ]
     },
     "execution_count": 25,
     "metadata": {},
     "output_type": "execute_result"
    }
   ],
   "source": [
    "//Paso 5\n",
    "def proof[P, Q]: Not[(P, Q)] => P => Not[Q] = \n",
    "    (notPandQ : ((P, Q)) => Nothing) => \n",
    "        (p : P) => \n",
    "            (q : Q) => notPandQ(p, q) : Nothing"
   ]
  },
  {
   "cell_type": "code",
   "execution_count": 3,
   "metadata": {},
   "outputs": [
    {
     "data": {
      "text/plain": [
       "defined \u001b[32mfunction\u001b[39m \u001b[36mproof\u001b[39m"
      ]
     },
     "execution_count": 3,
     "metadata": {},
     "output_type": "execute_result"
    }
   ],
   "source": []
  },
  {
   "cell_type": "code",
   "execution_count": 7,
   "metadata": {},
   "outputs": [
    {
     "data": {
      "text/plain": [
       "defined \u001b[32mfunction\u001b[39m \u001b[36mproof\u001b[39m"
      ]
     },
     "execution_count": 7,
     "metadata": {},
     "output_type": "execute_result"
    }
   ],
   "source": [
    "def proof[P](dn: Not[Not[P]] => P): (Not[P] => P) => P =\n",
    "    (p1 : Not[P] => P) => \n",
    "        p1(??? : Not[P]) : P"
   ]
  },
  {
   "cell_type": "code",
   "execution_count": 8,
   "metadata": {},
   "outputs": [
    {
     "data": {
      "text/plain": [
       "defined \u001b[32mfunction\u001b[39m \u001b[36mproof\u001b[39m"
      ]
     },
     "execution_count": 8,
     "metadata": {},
     "output_type": "execute_result"
    }
   ],
   "source": [
    "def proof[P](dn: Not[Not[P]] => P): (Not[P] => P) => P =\n",
    "    (p1 : Not[P] => P) => \n",
    "        p1((p : P) =>  ??? : Nothing ) : P  //No llegamos a nada con p1, probamos con dn"
   ]
  },
  {
   "cell_type": "code",
   "execution_count": 9,
   "metadata": {},
   "outputs": [
    {
     "data": {
      "text/plain": [
       "defined \u001b[32mfunction\u001b[39m \u001b[36mproof\u001b[39m"
      ]
     },
     "execution_count": 9,
     "metadata": {},
     "output_type": "execute_result"
    }
   ],
   "source": [
    "def proof[P](dn: Not[Not[P]] => P): (Not[P] => P) => P =\n",
    "    (p1 : Not[P] => P) => \n",
    "        dn(??? : Not[Not[P]]) : P"
   ]
  },
  {
   "cell_type": "code",
   "execution_count": 10,
   "metadata": {},
   "outputs": [
    {
     "data": {
      "text/plain": [
       "defined \u001b[32mfunction\u001b[39m \u001b[36mproof\u001b[39m"
      ]
     },
     "execution_count": 10,
     "metadata": {},
     "output_type": "execute_result"
    }
   ],
   "source": [
    "def proof[P](dn: Not[Not[P]] => P): (Not[P] => P) => P =\n",
    "    (p1 : Not[P] => P) => \n",
    "        dn((notP : P => Nothing) => ??? : Nothing) : P"
   ]
  },
  {
   "cell_type": "code",
   "execution_count": 11,
   "metadata": {},
   "outputs": [
    {
     "data": {
      "text/plain": [
       "defined \u001b[32mfunction\u001b[39m \u001b[36mproof\u001b[39m"
      ]
     },
     "execution_count": 11,
     "metadata": {},
     "output_type": "execute_result"
    }
   ],
   "source": [
    "def proof[P](dn: Not[Not[P]] => P): (Not[P] => P) => P =\n",
    "    (p1 : Not[P] => P) => \n",
    "        dn((notP : P => Nothing) => \n",
    "           notP(p1(notP : Not[P]) : P) : Nothing) : P"
   ]
  },
  {
   "cell_type": "code",
   "execution_count": null,
   "metadata": {},
   "outputs": [],
   "source": []
  },
  {
   "cell_type": "code",
   "execution_count": 23,
   "metadata": {},
   "outputs": [],
   "source": [
    "// EJERCICIO 4"
   ]
  },
  {
   "cell_type": "code",
   "execution_count": 26,
   "metadata": {},
   "outputs": [
    {
     "data": {
      "text/plain": [
       "defined \u001b[32mfunction\u001b[39m \u001b[36mproof\u001b[39m"
      ]
     },
     "execution_count": 26,
     "metadata": {},
     "output_type": "execute_result"
    }
   ],
   "source": [
    "def proof[P, Q, R, S](\n",
    "    p1: Either[P, Either[Q, R]], \n",
    "    p2: Either[Not[P], S], \n",
    "    p3: S => R): Not[Q] => R = \n",
    "    \n",
    "    ??? : (Not[Q] => R)"
   ]
  },
  {
   "cell_type": "code",
   "execution_count": 29,
   "metadata": {},
   "outputs": [
    {
     "data": {
      "text/plain": [
       "defined \u001b[32mfunction\u001b[39m \u001b[36mproof\u001b[39m"
      ]
     },
     "execution_count": 29,
     "metadata": {},
     "output_type": "execute_result"
    }
   ],
   "source": [
    "def proof[P, Q, R, S](\n",
    "    p1: Either[P, Either[Q, R]], \n",
    "    p2: Either[Not[P], S], \n",
    "    p3: S => R): Not[Q] => R = \n",
    "    \n",
    "    (noQ : Not[Q]) => \n",
    "         (p1, p2) match{\n",
    "             case (Left(p: P), Left(noP : (P => Nothing))) => ??? : R\n",
    "             case (Left(p: P), Right(s:S)) => ???\n",
    "             case (Right(Left(q : Q)), Left(noP : (P => Nothing))) => ???\n",
    "             case (Right(Left(q : Q)), Right(s : S)) => ???\n",
    "             case (Right(Right(r : R)), Left(noP : (P => Nothing))) => r\n",
    "             case (Right(Right(r : R)), Right(s : S)) => r\n",
    "             \n",
    "         }"
   ]
  },
  {
   "cell_type": "code",
   "execution_count": 33,
   "metadata": {},
   "outputs": [
    {
     "data": {
      "text/plain": [
       "defined \u001b[32mfunction\u001b[39m \u001b[36mproof\u001b[39m"
      ]
     },
     "execution_count": 33,
     "metadata": {},
     "output_type": "execute_result"
    }
   ],
   "source": [
    "def proof[P, Q, R, S](\n",
    "    p1: Either[P, Either[Q, R]], \n",
    "    p2: Either[Not[P], S], \n",
    "    p3: S => R): Not[Q] => R = \n",
    "    \n",
    "    (noQ : Q => Nothing) => \n",
    "         (p1, p2) match{\n",
    "             case (Left(p: P), Left(noP : (P => Nothing))) => noP(p)\n",
    "             case (Left(_), Right(s : S)) => p3(s)\n",
    "             case (Right(Left(q : Q)), _) => noQ(q)\n",
    "             case (Right(Right(r : R)), _ )=> r\n",
    "             \n",
    "         }"
   ]
  },
  {
   "cell_type": "code",
   "execution_count": 34,
   "metadata": {},
   "outputs": [
    {
     "data": {
      "text/plain": [
       "defined \u001b[32mfunction\u001b[39m \u001b[36mproof\u001b[39m"
      ]
     },
     "execution_count": 34,
     "metadata": {},
     "output_type": "execute_result"
    }
   ],
   "source": [
    "def proof[P, Q, R, S]:Either[P, Either[Q, R]] => Either[Not[P], S] => (S => R) => Not[Q] => R =\n",
    "    p1 => p2 => p3=> \n",
    "    (noQ : Q => Nothing) => \n",
    "         (p1, p2) match{\n",
    "             case (Left(p: P), Left(noP : (P => Nothing))) => noP(p)\n",
    "             case (Left(_), Right(s : S)) => p3(s)\n",
    "             case (Right(Left(q : Q)), _) => noQ(q)\n",
    "             case (Right(Right(r : R)), _ )=> r\n",
    "             \n",
    "         }"
   ]
  },
  {
   "cell_type": "code",
   "execution_count": null,
   "metadata": {},
   "outputs": [],
   "source": []
  }
 ],
 "metadata": {
  "kernelspec": {
   "display_name": "Scala 2.12",
   "language": "scala",
   "name": "scala212"
  },
  "language_info": {
   "codemirror_mode": "text/x-scala",
   "file_extension": ".sc",
   "mimetype": "text/x-scala",
   "name": "scala",
   "nbconvert_exporter": "script",
   "version": "2.12.12"
  }
 },
 "nbformat": 4,
 "nbformat_minor": 4
}
