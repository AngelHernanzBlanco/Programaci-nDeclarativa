{
 "cells": [
  {
   "cell_type": "code",
   "execution_count": 0,
   "metadata": {},
   "outputs": [],
   "source": [
    "Higher-order functions"
   ]
  },
  {
   "cell_type": "code",
   "execution_count": 2,
   "metadata": {},
   "outputs": [
    {
     "data": {
      "text/plain": [
       "\u001b[32mimport \u001b[39m\u001b[36m$ivy.$                               \n",
       "\u001b[39m\n",
       "\u001b[32mimport \u001b[39m\u001b[36m_root_.org.scalatest._\u001b[39m"
      ]
     },
     "execution_count": 2,
     "metadata": {},
     "output_type": "execute_result"
    }
   ],
   "source": [
    "import $ivy.`org.scalatest::scalatest:3.0.8`\n",
    "import _root_.org.scalatest._"
   ]
  },
  {
   "cell_type": "code",
   "execution_count": null,
   "metadata": {},
   "outputs": [],
   "source": [
    "Las funciones de orden superior sirven para esconder la recursividad"
   ]
  },
  {
   "cell_type": "code",
   "execution_count": null,
   "metadata": {},
   "outputs": [],
   "source": [
    "FoldRigth : DIVIDE AND CONQUER\n",
    "Abstrae cierto patron recursivo que aparece en varios métodos"
   ]
  },
  {
   "cell_type": "code",
   "execution_count": 13,
   "metadata": {},
   "outputs": [
    {
     "data": {
      "text/plain": [
       "defined \u001b[32mfunction\u001b[39m \u001b[36msum\u001b[39m"
      ]
     },
     "execution_count": 13,
     "metadata": {},
     "output_type": "execute_result"
    }
   ],
   "source": [
    "//implementamos suma de manera recursiva\n",
    "def sum(list: List[Int]): Int =\n",
    "    list match{\n",
    "        case Nil => 0\n",
    "        case head::tail => \n",
    "            val tailSol :Int = sum(tail)\n",
    "            head + tailSol\n",
    "    }"
   ]
  },
  {
   "cell_type": "code",
   "execution_count": 4,
   "metadata": {},
   "outputs": [
    {
     "data": {
      "text/plain": [
       "defined \u001b[32mfunction\u001b[39m \u001b[36mmultiply\u001b[39m"
      ]
     },
     "execution_count": 4,
     "metadata": {},
     "output_type": "execute_result"
    }
   ],
   "source": [
    "//implementamos multiplicar de manera recursiva\n",
    "def multiply(list: List[Int]): Int =\n",
    "    list match{\n",
    "        case Nil => 1\n",
    "        case head::tail => head * multiply(tail)\n",
    "    }"
   ]
  },
  {
   "cell_type": "code",
   "execution_count": null,
   "metadata": {},
   "outputs": [],
   "source": [
    "EL código es practicamente el mismo\n",
    "Solamente cambiamos el operando + por el operando *\n",
    "FoldRigth va a abstraer esta misma recursividad \n",
    "Se abstraen patrones de control que se repiten en muchos sitios"
   ]
  },
  {
   "cell_type": "code",
   "execution_count": 9,
   "metadata": {},
   "outputs": [
    {
     "data": {
      "text/plain": [
       "defined \u001b[32mfunction\u001b[39m \u001b[36mfoldRight\u001b[39m"
      ]
     },
     "execution_count": 9,
     "metadata": {},
     "output_type": "execute_result"
    }
   ],
   "source": [
    "//EMPEZAMOS A IMPLEMENTAR foldRigth Y QUEREMOS QUE NOS SIRVA TANTO PARA sum COMO PARA multiply\n",
    "\n",
    "def foldRight(list: List[Int])(nil: Int, cons:(Int, Int)=> Int): Int =\n",
    "    list match{\n",
    "        case Nil => nil  //PONEMOS UN PARAMETRO PORQUE EN EL CASO DE LA SUMA SE DEVUELVE \"0\" Y EN LA MULT. SE DEVUELVE \"1\"\n",
    "        case head::tail => \n",
    "            val tailSol :Int = foldRight(tail)(nil, cons)\n",
    "            cons(head, tailSol):Int\n",
    "    }"
   ]
  },
  {
   "cell_type": "code",
   "execution_count": 8,
   "metadata": {},
   "outputs": [
    {
     "data": {
      "text/plain": [
       "defined \u001b[32mfunction\u001b[39m \u001b[36msum\u001b[39m"
      ]
     },
     "execution_count": 8,
     "metadata": {},
     "output_type": "execute_result"
    }
   ],
   "source": [
    "//IMPLEMENTAMOS suma CON foldRight\n",
    "def sum(list : List[Int]) : Int =\n",
    "    foldRigth(list)(0, (head : Int, tailSol : Int) => head + tailSol : Int)"
   ]
  },
  {
   "cell_type": "code",
   "execution_count": 12,
   "metadata": {},
   "outputs": [
    {
     "data": {
      "text/plain": [
       "defined \u001b[32mfunction\u001b[39m \u001b[36msum\u001b[39m"
      ]
     },
     "execution_count": 12,
     "metadata": {},
     "output_type": "execute_result"
    }
   ],
   "source": [
    "//SIMPLIFICAMOS LA FUNCION sum\n",
    "def sum(list : List[Int]) : Int =\n",
    "    foldRight(list)(0, _ + _)"
   ]
  },
  {
   "cell_type": "code",
   "execution_count": 7,
   "metadata": {},
   "outputs": [
    {
     "data": {
      "text/plain": [
       "\u001b[36mres6\u001b[39m: \u001b[32mInt\u001b[39m = \u001b[32m15\u001b[39m"
      ]
     },
     "execution_count": 7,
     "metadata": {},
     "output_type": "execute_result"
    }
   ],
   "source": [
    "//PROBAMOS LA FUNCIÓN sum\n",
    "sum(List(1, 2, 3, 4, 5))"
   ]
  },
  {
   "cell_type": "code",
   "execution_count": 10,
   "metadata": {},
   "outputs": [
    {
     "data": {
      "text/plain": [
       "defined \u001b[32mfunction\u001b[39m \u001b[36mmultiply\u001b[39m"
      ]
     },
     "execution_count": 10,
     "metadata": {},
     "output_type": "execute_result"
    }
   ],
   "source": [
    "//IMPLEMENTAOS multiply CON foldRight\n",
    "def multiply(list : List[Int]) : Int =\n",
    "    foldRight(list)(1, (head: Int, tailSol : Int) => head * tailSol : Int)"
   ]
  },
  {
   "cell_type": "code",
   "execution_count": 11,
   "metadata": {},
   "outputs": [
    {
     "data": {
      "text/plain": [
       "defined \u001b[32mfunction\u001b[39m \u001b[36mmultiply\u001b[39m"
      ]
     },
     "execution_count": 11,
     "metadata": {},
     "output_type": "execute_result"
    }
   ],
   "source": [
    "//SIMPLIFICAMOS LA FUNCION multiply\n",
    "def multiply(list : List[Int]) : Int =\n",
    "    foldRight(list)(0, _ * _)"
   ]
  },
  {
   "cell_type": "code",
   "execution_count": null,
   "metadata": {},
   "outputs": [],
   "source": [
    "foldRight se convierte en una funcion reutilizable y por eso se vuelve más modular nuestro programa\n",
    "foldRight se puede utilizar en muchas ocasiones, se vuelve muy reutilizable\n",
    "En las funciones sum y multiply se esconde la recursividad"
   ]
  },
  {
   "cell_type": "code",
   "execution_count": null,
   "metadata": {},
   "outputs": [],
   "source": [
    "Pero aun se puede parametrizar más la funcion foldRight\n",
    "Con generalizaciones"
   ]
  },
  {
   "cell_type": "code",
   "execution_count": null,
   "metadata": {},
   "outputs": [],
   "source": [
    "//Metodo que devuelve si está ordenada la lista\n",
    "def sorted(list List[Int): Boolean =\n",
    "    list match{\n",
    "        case Nil => true\n",
    "        case head::tail => ???\n",
    "    }"
   ]
  },
  {
   "cell_type": "code",
   "execution_count": 15,
   "metadata": {},
   "outputs": [
    {
     "data": {
      "text/plain": [
       "defined \u001b[32mfunction\u001b[39m \u001b[36msorted\u001b[39m"
      ]
     },
     "execution_count": 15,
     "metadata": {},
     "output_type": "execute_result"
    }
   ],
   "source": [
    "def sorted(list: List[Int]): Boolean =\n",
    "    list match{\n",
    "        case Nil => true\n",
    "        case head::tail => \n",
    "            val tailSorted : Boolean = foo(tail)\n",
    "            tail match{\n",
    "                case Nil => true\n",
    "                case head2 :: tail2 => \n",
    "                    head < head2 && tailSorted\n",
    "            }\n",
    "    }"
   ]
  },
  {
   "cell_type": "code",
   "execution_count": 16,
   "metadata": {},
   "outputs": [
    {
     "data": {
      "text/plain": [
       "\u001b[36mres15\u001b[39m: \u001b[32mBoolean\u001b[39m = true"
      ]
     },
     "execution_count": 16,
     "metadata": {},
     "output_type": "execute_result"
    }
   ],
   "source": [
    "sorted(List(1, 2, 3, 4, 5))"
   ]
  },
  {
   "cell_type": "code",
   "execution_count": 17,
   "metadata": {},
   "outputs": [
    {
     "data": {
      "text/plain": [
       "defined \u001b[32mfunction\u001b[39m \u001b[36msorted\u001b[39m"
      ]
     },
     "execution_count": 17,
     "metadata": {},
     "output_type": "execute_result"
    }
   ],
   "source": [
    "//OPTIMIZAMOS LA FUNCION sorted\n",
    "def sorted(list: List[Int]): Boolean =\n",
    "    list match{\n",
    "        case head1 :: head2 :: tail => \n",
    "            val tailSorted : Boolean = foo(head2 :: tail)\n",
    "                head1 < head2 && sorted(head2 :: tail)\n",
    "        case _ => true\n",
    "            \n",
    "    }"
   ]
  },
  {
   "cell_type": "code",
   "execution_count": 18,
   "metadata": {},
   "outputs": [
    {
     "data": {
      "text/plain": [
       "defined \u001b[32mfunction\u001b[39m \u001b[36mfoldRight\u001b[39m"
      ]
     },
     "execution_count": 18,
     "metadata": {},
     "output_type": "execute_result"
    }
   ],
   "source": [
    "//DEFINIMOS DE NUEVO LA FUNCION foldRight\n",
    "\n",
    "def foldRight (list : List[Int])(nil : Boolean, cons : (Int, Boolean) => Boolean) : Boolean = \n",
    "    list match{\n",
    "        case Nil => nil\n",
    "        case (head: Int) :: (tail:List[Int]) =>\n",
    "            val tailSol : Boolean = foldRight(tail)(nil, cons)\n",
    "            cons(head, tailSol) : Boolean\n",
    "    }"
   ]
  },
  {
   "cell_type": "code",
   "execution_count": 20,
   "metadata": {},
   "outputs": [
    {
     "data": {
      "text/plain": [
       "defined \u001b[32mfunction\u001b[39m \u001b[36mfoldRight\u001b[39m"
      ]
     },
     "execution_count": 20,
     "metadata": {},
     "output_type": "execute_result"
    }
   ],
   "source": [
    "//foldright genérico para no tener que estar haciendo versiones\n",
    "\n",
    "def foldRight[A, B](list : List[A])(nil : B, cons : (A, B) => B) : B = \n",
    "    list match{\n",
    "        case Nil => nil\n",
    "        case (head: A) :: (tail:List[A]) =>\n",
    "            val tailSol : B = foldRight(tail)(nil, cons)\n",
    "            cons(head, tailSol) : B\n",
    "    }"
   ]
  },
  {
   "cell_type": "code",
   "execution_count": null,
   "metadata": {},
   "outputs": [],
   "source": [
    "def sorted(list : List[Int]): Boolean = \n",
    "    foldRight(list)(\n",
    "        ??? : Boolean, \n",
    "        (head : Int, tailSorted : (List[Int], Boolean)) => \n",
    "            ??? : Boolean)"
   ]
  },
  {
   "cell_type": "code",
   "execution_count": 24,
   "metadata": {},
   "outputs": [
    {
     "data": {
      "text/plain": [
       "defined \u001b[32mfunction\u001b[39m \u001b[36msorted\u001b[39m"
      ]
     },
     "execution_count": 24,
     "metadata": {},
     "output_type": "execute_result"
    }
   ],
   "source": [
    "def sorted(list : List[Int]): Boolean = \n",
    "    foldRight(list)(\n",
    "        (Nil, true) : (List[Int], Boolean), \n",
    "        (head : Int, tailSol : (List[Int], Boolean)) => //Tenemos que añadir el tail como variable auxiliar para poder hacer el\n",
    "            tailSol._1 match {                          //patern matching\n",
    "                case Nil => (head :: tailSol._1, true)\n",
    "                case head2 :: tail2 => \n",
    "                    (head :: tailSol._1, head < head2 && tailSol._2)\n",
    "            })._2\n",
    "//FUNCIONA CON EL foldRight genérico"
   ]
  },
  {
   "cell_type": "code",
   "execution_count": 23,
   "metadata": {},
   "outputs": [
    {
     "data": {
      "text/plain": [
       "\u001b[36mres22_0\u001b[39m: \u001b[32mBoolean\u001b[39m = true\n",
       "\u001b[36mres22_1\u001b[39m: \u001b[32mBoolean\u001b[39m = false"
      ]
     },
     "execution_count": 23,
     "metadata": {},
     "output_type": "execute_result"
    }
   ],
   "source": [
    "//Comprobamos el resultado\n",
    "sorted(List(1, 2, 3, 4, 5))\n",
    "sorted(List(1, 5, 2, 4, 7))"
   ]
  },
  {
   "cell_type": "code",
   "execution_count": null,
   "metadata": {},
   "outputs": [],
   "source": []
  },
  {
   "cell_type": "code",
   "execution_count": null,
   "metadata": {},
   "outputs": [],
   "source": [
    "¿Como está implementado en Scala el foldRight?"
   ]
  },
  {
   "cell_type": "code",
   "execution_count": 26,
   "metadata": {
    "scrolled": true
   },
   "outputs": [
    {
     "data": {
      "text/plain": [
       "defined \u001b[32mfunction\u001b[39m \u001b[36mmultiply\u001b[39m\n",
       "defined \u001b[32mfunction\u001b[39m \u001b[36mmultiply2\u001b[39m"
      ]
     },
     "execution_count": 26,
     "metadata": {},
     "output_type": "execute_result"
    }
   ],
   "source": [
    "//ASI LO HEMOS IMPLEMENTADO NOSOTROS\n",
    "def multiply(list: List[Int]) : Int =\n",
    "    foldRight(list)(1:Int, (a : Int, b : Int) => a * b)\n",
    "\n",
    "//EN SCALA\n",
    "def multiply2(list: List[Int]) : Int =\n",
    "    list.foldRight(1)(_ * _) //foldRigth no es un método aparte, sino que es una propiedad de las LISTAS\n",
    "                             //por lo tanto no hace falta especificar los tipos porque Scala los infiere de las LISTAS"
   ]
  },
  {
   "cell_type": "code",
   "execution_count": null,
   "metadata": {},
   "outputs": [],
   "source": [
    "Vamos a ver las siguientes funciones de orden superior:\n",
    "def foldLeft[A, B](list: List[A])(b: B)(f: (B, A) => B): B = ???\n",
    "def filter[A](list: List[A])(f: A => Boolean): List[A] = ???\n",
    "def map[A, B](list: List[A])(f: A => B): List[B] = ???\n",
    "def flatMap[A, B](list: List[A])(f: A => List[B]): List[B] = ???"
   ]
  },
  {
   "cell_type": "code",
   "execution_count": null,
   "metadata": {},
   "outputs": [],
   "source": []
  },
  {
   "cell_type": "code",
   "execution_count": null,
   "metadata": {},
   "outputs": [],
   "source": [
    "foldLeft\n",
    "Sirve para abstraer algoritmos imperativos comunes (ITERATIVOS)\n",
    "Se inicializa la variable de salida a un parametro inicial \n",
    "y se va actualizando el valor en base a cada iteracion y finalmente se devuelve."
   ]
  },
  {
   "cell_type": "code",
   "execution_count": 27,
   "metadata": {},
   "outputs": [
    {
     "data": {
      "text/plain": [
       "defined \u001b[32mfunction\u001b[39m \u001b[36mlength\u001b[39m"
      ]
     },
     "execution_count": 27,
     "metadata": {},
     "output_type": "execute_result"
    }
   ],
   "source": [
    "def length[A](list:List[A]):Int = \n",
    "    {\n",
    "        var out: Int = 0\n",
    "        for (e <- list)  //Iteramos la lista de izq a der\n",
    "            out += 1\n",
    "        out\n",
    "    }"
   ]
  },
  {
   "cell_type": "code",
   "execution_count": null,
   "metadata": {},
   "outputs": [],
   "source": [
    "/*  Paso 1\n",
    "    out = Nil\n",
    "    1 :: 2 :: 3 :: Nil\n",
    "    \n",
    "    paso 2\n",
    "    out = 1 :: NIl\n",
    "    2 :: 3 :: Nil\n",
    "    \n",
    "    paso 3\n",
    "    out = 2 :: 1 :: Nil\n",
    "    3 :: Nil\n",
    "    \n",
    "    paso 4\n",
    "    out = 3 :: 2 :: 1 :: Nil\n",
    "*/"
   ]
  },
  {
   "cell_type": "code",
   "execution_count": 28,
   "metadata": {},
   "outputs": [
    {
     "data": {
      "text/plain": [
       "defined \u001b[32mfunction\u001b[39m \u001b[36mreverse\u001b[39m"
      ]
     },
     "execution_count": 28,
     "metadata": {},
     "output_type": "execute_result"
    }
   ],
   "source": [
    "def reverse[A](list:List[A]): List[A] = \n",
    "    {\n",
    "        var out: List[A] = Nil\n",
    "        for (e <- list)\n",
    "            out = e :: out\n",
    "        out\n",
    "    }"
   ]
  },
  {
   "cell_type": "code",
   "execution_count": 31,
   "metadata": {},
   "outputs": [
    {
     "data": {
      "text/plain": [
       "defined \u001b[32mfunction\u001b[39m \u001b[36mfoldLeft\u001b[39m"
      ]
     },
     "execution_count": 31,
     "metadata": {},
     "output_type": "execute_result"
    }
   ],
   "source": [
    "// Queremos implementar el foldLeft para las 2 funciones pero tiene tipos de salida distintos\n",
    "// def length[A](list:List[A]): Int\n",
    "// def reverse[A](list:List[A]): List[A]\n",
    "\n",
    "def foldLeft[A, B](list : List[A])(initial : B, update : (A, B) => B) : B = \n",
    "     {\n",
    "        var out: B = initial //Es el valor inicial del valor de salida\n",
    "        for (e <- list)\n",
    "            out = update(e : A, out : B)\n",
    "        out\n",
    "    }"
   ]
  },
  {
   "cell_type": "code",
   "execution_count": 32,
   "metadata": {},
   "outputs": [
    {
     "data": {
      "text/plain": [
       "defined \u001b[32mfunction\u001b[39m \u001b[36mreverse\u001b[39m"
      ]
     },
     "execution_count": 32,
     "metadata": {},
     "output_type": "execute_result"
    }
   ],
   "source": [
    "def reverse[A](list : List[A]) : List[A] =\n",
    "    foldLeft(list)(\n",
    "        Nil : List[A],\n",
    "        (e : A, out : List[A]) =>\n",
    "            e :: out : List[A]\n",
    "    )"
   ]
  },
  {
   "cell_type": "code",
   "execution_count": 33,
   "metadata": {},
   "outputs": [
    {
     "data": {
      "text/plain": [
       "defined \u001b[32mfunction\u001b[39m \u001b[36mlength\u001b[39m"
      ]
     },
     "execution_count": 33,
     "metadata": {},
     "output_type": "execute_result"
    }
   ],
   "source": [
    "def length[A](list:List[A]):Int = \n",
    "    list.foldLeft(0)(\n",
    "        (out : Int, e: A) => out + 1\n",
    "    )"
   ]
  },
  {
   "cell_type": "code",
   "execution_count": null,
   "metadata": {},
   "outputs": [],
   "source": []
  },
  {
   "cell_type": "code",
   "execution_count": null,
   "metadata": {},
   "outputs": [],
   "source": [
    "(18-10-2021)"
   ]
  },
  {
   "cell_type": "code",
   "execution_count": null,
   "metadata": {},
   "outputs": [],
   "source": []
  },
  {
   "cell_type": "code",
   "execution_count": null,
   "metadata": {},
   "outputs": [],
   "source": [
    "FUNCIONES DE ORDEN SUPERIOR ADICIONALES (MAP, FLATMAP, FILTER)\n",
    "TANTO PARA LISTAS COMO PARA VALORES OPCIONALES\n"
   ]
  },
  {
   "cell_type": "code",
   "execution_count": null,
   "metadata": {},
   "outputs": [],
   "source": [
    "MAP"
   ]
  },
  {
   "cell_type": "code",
   "execution_count": null,
   "metadata": {},
   "outputs": [],
   "source": [
    "QUEREMOS UNA FUNCION QUE DADO UNA LISTA Y UNA FUNCION QUE TRANSFORMA LOS ELEMENTOS DE LA LISTA, \n",
    "QUE DEVUELVA UNA LISTA CON LA MISMA ESTRUCTURA PERO CON LOS ELEMENTOS CAMBIADOS POR LA FUNCION"
   ]
  },
  {
   "cell_type": "code",
   "execution_count": 1,
   "metadata": {},
   "outputs": [
    {
     "data": {
      "text/plain": [
       "defined \u001b[32mfunction\u001b[39m \u001b[36mlengths\u001b[39m"
      ]
     },
     "execution_count": 1,
     "metadata": {},
     "output_type": "execute_result"
    }
   ],
   "source": [
    "def lengths(list:List[String]):List[Int] = //funcion que recive una lista de Strings y devuelve una lista con la longitud de cada String\n",
    "    list match {\n",
    "        case Nil => Nil\n",
    "        case head::tail => \n",
    "            val tailLengths : List[Int] = lengths(tail)\n",
    "            head.length :: tailLengths\n",
    "    }"
   ]
  },
  {
   "cell_type": "code",
   "execution_count": 5,
   "metadata": {},
   "outputs": [
    {
     "name": "stderr",
     "output_type": "stream",
     "text": [
      "cmd5.sc:2: type mismatch;\n",
      " found   : List[Int]\n",
      " required: scala.collection.immutable.Nil.type\n",
      "    list.foldRight(Nil)((head, tailLengths) => (head.length :: tailLengths))\n",
      "                                                            ^Compilation Failed"
     ]
    },
    {
     "ename": "",
     "evalue": "",
     "output_type": "error",
     "traceback": [
      "Compilation Failed"
     ]
    }
   ],
   "source": [
    "//Con foldRight\n",
    "def lengths(list:List[String]) : List[Int] =\n",
    "    list.foldRight(Nil)((head, tailLengths) => head.length :: tailLengths)"
   ]
  },
  {
   "cell_type": "code",
   "execution_count": 2,
   "metadata": {},
   "outputs": [
    {
     "data": {
      "text/plain": [
       "defined \u001b[32mfunction\u001b[39m \u001b[36mevens\u001b[39m"
      ]
     },
     "execution_count": 2,
     "metadata": {},
     "output_type": "execute_result"
    }
   ],
   "source": [
    "def evens(list : List[String]): List[Boolean] = //Ver si cada String tiene una longitud par\n",
    "    list match {\n",
    "        case Nil => Nil\n",
    "        case head::tail => \n",
    "            val tailEvens : List[Boolean] = evens(tail)\n",
    "            (head.length % 2 == 0) :: tailEvens\n",
    "    }"
   ]
  },
  {
   "cell_type": "code",
   "execution_count": null,
   "metadata": {},
   "outputs": [],
   "source": [
    "//En ambos ejemplos, la solucion es practicamente idéntica\n",
    "//Para no hacer COPY-PASTE ==> PARAMETRIZAMOS"
   ]
  },
  {
   "cell_type": "code",
   "execution_count": 4,
   "metadata": {},
   "outputs": [
    {
     "data": {
      "text/plain": [
       "defined \u001b[32mfunction\u001b[39m \u001b[36mmap\u001b[39m"
      ]
     },
     "execution_count": 4,
     "metadata": {},
     "output_type": "execute_result"
    }
   ],
   "source": [
    "def map[A, B](list:List[A])(f : A => B): List[B] =\n",
    "    list match {\n",
    "        case Nil => Nil\n",
    "        case head::tail => \n",
    "            val tailMapped : List[B] = map(tail)(f)\n",
    "            f(head) :: tailMapped\n",
    "    }"
   ]
  },
  {
   "cell_type": "code",
   "execution_count": 8,
   "metadata": {},
   "outputs": [
    {
     "data": {
      "text/plain": [
       "defined \u001b[32mfunction\u001b[39m \u001b[36mmap\u001b[39m"
      ]
     },
     "execution_count": 8,
     "metadata": {},
     "output_type": "execute_result"
    }
   ],
   "source": [
    "def map[A, B](list:List[A])(f : A => B): List[B] =\n",
    "    list.foldRight(Nil: List[B])((head, tailMapped) => f(head) :: tailMapped)"
   ]
  },
  {
   "cell_type": "code",
   "execution_count": 6,
   "metadata": {},
   "outputs": [
    {
     "data": {
      "text/plain": [
       "defined \u001b[32mfunction\u001b[39m \u001b[36mevens\u001b[39m\n",
       "defined \u001b[32mfunction\u001b[39m \u001b[36mevens1\u001b[39m"
      ]
     },
     "execution_count": 6,
     "metadata": {},
     "output_type": "execute_result"
    }
   ],
   "source": [
    "//Uso de nuestro Map\n",
    "def evens(list : List[String]): List[Boolean] =\n",
    "    map(list)((s : String) => s.length % 2 == 0 : Boolean)\n",
    "\n",
    "//Uso del Map de Scala\n",
    "def evens1(list : List[String]): List[Boolean] =\n",
    "    list.map(_.length % 2 == 0 : Boolean)"
   ]
  },
  {
   "cell_type": "code",
   "execution_count": null,
   "metadata": {},
   "outputs": [],
   "source": [
    "//Map con Option"
   ]
  },
  {
   "cell_type": "code",
   "execution_count": 18,
   "metadata": {},
   "outputs": [
    {
     "data": {
      "text/plain": [
       "defined \u001b[32mfunction\u001b[39m \u001b[36mmapOpt\u001b[39m"
      ]
     },
     "execution_count": 18,
     "metadata": {},
     "output_type": "execute_result"
    }
   ],
   "source": [
    "def mapOpt[A, B](maybeA : Option[A])(f : A => B) : Option[B] = \n",
    "    maybeA match{\n",
    "        case None => None\n",
    "        case Some(a: A) => Some(f(a))\n",
    "    }"
   ]
  },
  {
   "cell_type": "code",
   "execution_count": null,
   "metadata": {},
   "outputs": [],
   "source": []
  },
  {
   "cell_type": "code",
   "execution_count": null,
   "metadata": {},
   "outputs": [],
   "source": [
    "// Funcion Filter\n",
    "// Filtra elementos de una lista en base a un predicado "
   ]
  },
  {
   "cell_type": "code",
   "execution_count": 12,
   "metadata": {},
   "outputs": [
    {
     "data": {
      "text/plain": [
       "defined \u001b[32mfunction\u001b[39m \u001b[36mfilterEven\u001b[39m"
      ]
     },
     "execution_count": 12,
     "metadata": {},
     "output_type": "execute_result"
    }
   ],
   "source": [
    "def filterEven(list : List[Int]): List[Int] = //Nos queremos quedar solo con los pares\n",
    "    list.foldRight(Nil:List[Int])((head, tailFiltered) => \n",
    "        if (head % 2 == 0) head :: tailFiltered\n",
    "        else tailFiltered \n",
    "    )"
   ]
  },
  {
   "cell_type": "code",
   "execution_count": 13,
   "metadata": {},
   "outputs": [
    {
     "data": {
      "text/plain": [
       "defined \u001b[32mfunction\u001b[39m \u001b[36mstartsWithVowel\u001b[39m\n",
       "defined \u001b[32mfunction\u001b[39m \u001b[36mfilterR\u001b[39m"
      ]
     },
     "execution_count": 13,
     "metadata": {},
     "output_type": "execute_result"
    }
   ],
   "source": [
    "def startsWithVowel(s: String): Boolean =\n",
    "    s.length > 0 && (\n",
    "        s(0) == 'a' || s(0) == 'e' || s(0) == 'i' || s(0) == 'o' || s(0) == 'u')\n",
    "\n",
    "def filterVowel(list : List[String]): List[String] = //Nos queremos quedar solo con los Strings que empiezan por vocal\n",
    "    list.foldRight(Nil:List[String])((head, tailFiltered) => \n",
    "        if (startsWithVowel(head)) head :: tailFiltered\n",
    "        else tailFiltered \n",
    "    )"
   ]
  },
  {
   "cell_type": "code",
   "execution_count": 14,
   "metadata": {},
   "outputs": [
    {
     "data": {
      "text/plain": [
       "defined \u001b[32mfunction\u001b[39m \u001b[36mfilterR\u001b[39m"
      ]
     },
     "execution_count": 14,
     "metadata": {},
     "output_type": "execute_result"
    }
   ],
   "source": [
    "//Metodo general de filterR\n",
    "def filterR[A](list : List[A])(predicate: A => Boolean): List[A] =\n",
    "    list.foldRight(Nil:List[A])((head, tailFiltered) => \n",
    "        if (predicate(head)) head :: tailFiltered\n",
    "        else tailFiltered\n",
    "    )"
   ]
  },
  {
   "cell_type": "code",
   "execution_count": 16,
   "metadata": {},
   "outputs": [
    {
     "data": {
      "text/plain": [
       "\u001b[36mres15_0\u001b[39m: \u001b[32mList\u001b[39m[\u001b[32mString\u001b[39m] = \u001b[33mList\u001b[39m(\u001b[32m\"abc\"\u001b[39m, \u001b[32m\"aei\"\u001b[39m, \u001b[32m\"ola\"\u001b[39m)\n",
       "\u001b[36mres15_1\u001b[39m: \u001b[32mList\u001b[39m[\u001b[32mString\u001b[39m] = \u001b[33mList\u001b[39m(\u001b[32m\"abc\"\u001b[39m, \u001b[32m\"aei\"\u001b[39m, \u001b[32m\"ola\"\u001b[39m)"
      ]
     },
     "execution_count": 16,
     "metadata": {},
     "output_type": "execute_result"
    }
   ],
   "source": [
    "//Uso de nuestro filter\n",
    "filterR(List(\"abc\", \"bce\", \"aei\", \"ola\"))(startsWithVowel)\n",
    "\n",
    "//Uso del filter de Scala\n",
    "List(\"abc\", \"bce\", \"aei\", \"ola\").filter(startsWithVowel)"
   ]
  },
  {
   "cell_type": "code",
   "execution_count": 18,
   "metadata": {},
   "outputs": [],
   "source": [
    "//filter con Option"
   ]
  },
  {
   "cell_type": "code",
   "execution_count": 19,
   "metadata": {},
   "outputs": [
    {
     "data": {
      "text/plain": [
       "defined \u001b[32mfunction\u001b[39m \u001b[36mfilter\u001b[39m"
      ]
     },
     "execution_count": 19,
     "metadata": {},
     "output_type": "execute_result"
    }
   ],
   "source": [
    "def filter[A](maybeA : Option[A])(predicate: A => Boolean): Option[A] = \n",
    "    list.foldRight(None)()"
   ]
  },
  {
   "cell_type": "code",
   "execution_count": null,
   "metadata": {},
   "outputs": [],
   "source": []
  },
  {
   "cell_type": "code",
   "execution_count": null,
   "metadata": {},
   "outputs": [],
   "source": [
    "// FlatMap\n",
    "// Utilizamos la funcion .split(\" \").toList"
   ]
  },
  {
   "cell_type": "code",
   "execution_count": 26,
   "metadata": {},
   "outputs": [
    {
     "data": {
      "text/plain": [
       "defined \u001b[32mfunction\u001b[39m \u001b[36mconcatenateLarga\u001b[39m\n",
       "defined \u001b[32mfunction\u001b[39m \u001b[36mconcatenateCorta\u001b[39m\n",
       "defined \u001b[32mfunction\u001b[39m \u001b[36mflatten\u001b[39m\n",
       "\u001b[36mres25_3\u001b[39m: \u001b[32mList\u001b[39m[\u001b[32mInt\u001b[39m] = \u001b[33mList\u001b[39m(\u001b[32m1\u001b[39m, \u001b[32m2\u001b[39m)"
      ]
     },
     "execution_count": 26,
     "metadata": {},
     "output_type": "execute_result"
    }
   ],
   "source": [
    "def concatenateLarga(listOflists : List[List[String]]) : List[String] =\n",
    "    listOflists.foldRight(Nil : List[String])(\n",
    "        (head : List[String], tailConcatenated : List[String]) =>\n",
    "            head ++ tailConcatenated : List[String])\n",
    "\n",
    "def concatenateCorta(listOflists : List[List[String]]) : List[String] =\n",
    "    listOflists.foldRight(Nil : List[String])(_++_)\n",
    "\n",
    "def flatten[A](listOflists : List[List[A]]) : List[A] =  //Flaten significa aplanado\n",
    "    listOflists.foldRight(Nil : List[A])(\n",
    "        (head : List[A], tailConcatenated : List[A]) =>\n",
    "            head ++ tailConcatenated : List[A])\n",
    "\n",
    "List(List(1), List(2)).flatten"
   ]
  },
  {
   "cell_type": "code",
   "execution_count": 28,
   "metadata": {},
   "outputs": [
    {
     "data": {
      "text/plain": [
       "defined \u001b[32mfunction\u001b[39m \u001b[36mwords\u001b[39m\n",
       "defined \u001b[32mfunction\u001b[39m \u001b[36mwords2\u001b[39m"
      ]
     },
     "execution_count": 28,
     "metadata": {},
     "output_type": "execute_result"
    }
   ],
   "source": [
    "def words(paragraph: List[String]): List[String] = \n",
    "    paragraph.map(_.split(\" \").toList) //Devuelve List[List[String]]\n",
    "        .flatten                       // Devuelve List[String]\n",
    "\n",
    "def words2(paragraph: List[String]): List[String] = \n",
    "    paragraph.flatMap(_.split(\" \").toList) // Devuelve List[String]"
   ]
  },
  {
   "cell_type": "code",
   "execution_count": 30,
   "metadata": {},
   "outputs": [
    {
     "data": {
      "text/plain": [
       "defined \u001b[32mfunction\u001b[39m \u001b[36mflatMap\u001b[39m"
      ]
     },
     "execution_count": 30,
     "metadata": {},
     "output_type": "execute_result"
    }
   ],
   "source": [
    "//Implementacion de FlatMap\n",
    "def flatMap[A, B](list: List[A])(f: A => List[B]): List[B] = \n",
    "    list.map(f).flatten"
   ]
  },
  {
   "cell_type": "code",
   "execution_count": null,
   "metadata": {},
   "outputs": [],
   "source": []
  }
 ],
 "metadata": {
  "kernelspec": {
   "display_name": "Scala 2.12",
   "language": "scala",
   "name": "scala212"
  },
  "language_info": {
   "codemirror_mode": "text/x-scala",
   "file_extension": ".sc",
   "mimetype": "text/x-scala",
   "name": "scala",
   "nbconvert_exporter": "script",
   "version": "2.12.12"
  }
 },
 "nbformat": 4,
 "nbformat_minor": 4
}
