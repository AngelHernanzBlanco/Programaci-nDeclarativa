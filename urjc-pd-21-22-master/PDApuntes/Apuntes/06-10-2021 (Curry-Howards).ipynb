{
 "cells": [
  {
   "cell_type": "code",
   "execution_count": 0,
   "metadata": {},
   "outputs": [],
   "source": [
    "//CURRY-HOWARDS"
   ]
  },
  {
   "cell_type": "code",
   "execution_count": 1,
   "metadata": {},
   "outputs": [
    {
     "data": {
      "text/plain": [
       "defined \u001b[32mtype\u001b[39m \u001b[36mNot\u001b[39m\n",
       "defined \u001b[32mtype\u001b[39m \u001b[36m<=>\u001b[39m"
      ]
     },
     "execution_count": 1,
     "metadata": {},
     "output_type": "execute_result"
    }
   ],
   "source": [
    "type Not[P] = P => Nothing\n",
    "type <=> [P, Q] = (P => Q, Q => P)"
   ]
  },
  {
   "cell_type": "code",
   "execution_count": 3,
   "metadata": {},
   "outputs": [],
   "source": [
    "//Empezamos semanticamente\n",
    "//Dar un valor de los tipos logicos que vamos a implementar es demostrar la proposicion que estamos implementando\n",
    "//Vamos a utilizar el metodo de deduccion natural de Gensen para comprobar\n",
    "\n",
    "//La manera de crear una CONJUNCIÓN es igual a crear un valor de tipo TUPLA\n",
    "//La manera de crear una DISYUNCIÓN es igual a crear un valor de tipo EITHER\n",
    "//La manera de crear una IMPLICACIÓN es igual a crear un valor de tipo FUNCIÓN\n",
    "\n",
    "//Lo mismo pasa con la eliminación"
   ]
  },
  {
   "cell_type": "code",
   "execution_count": 4,
   "metadata": {},
   "outputs": [
    {
     "data": {
      "text/plain": [
       "defined \u001b[32mfunction\u001b[39m \u001b[36mprogram\u001b[39m"
      ]
     },
     "execution_count": 4,
     "metadata": {},
     "output_type": "execute_result"
    }
   ],
   "source": [
    "def program[P, Q, R]:((P, Either[Q, R])) => Either[(P, Q), (P, R)] =\n",
    "    ??? : (((P, Either[Q, R])) => Either[(P, Q), (P, R)])"
   ]
  },
  {
   "cell_type": "code",
   "execution_count": 6,
   "metadata": {},
   "outputs": [
    {
     "data": {
      "text/plain": [
       "defined \u001b[32mfunction\u001b[39m \u001b[36mprogram\u001b[39m"
      ]
     },
     "execution_count": 6,
     "metadata": {},
     "output_type": "execute_result"
    }
   ],
   "source": [
    "//Fase de construccion de una funcion --> expresion lamda\n",
    "def program[P, Q, R]:((P, Either[Q, R])) => Either[(P, Q), (P, R)] =\n",
    "    (t : (P, Either[Q, R])) => ??? : Either[(P, Q), (P, R)]"
   ]
  },
  {
   "cell_type": "code",
   "execution_count": 7,
   "metadata": {},
   "outputs": [
    {
     "data": {
      "text/plain": [
       "defined \u001b[32mfunction\u001b[39m \u001b[36mprogram\u001b[39m"
      ]
     },
     "execution_count": 7,
     "metadata": {},
     "output_type": "execute_result"
    }
   ],
   "source": [
    "//Fase de construccion del tipo Either\n",
    "def program[P, Q, R]:((P, Either[Q, R])) => Either[(P, Q), (P, R)] =\n",
    "    (t : (P, Either[Q, R])) => \n",
    "        Left(??? : (P, Q)): Either[(P, Q), (P, R)]"
   ]
  },
  {
   "cell_type": "code",
   "execution_count": 8,
   "metadata": {},
   "outputs": [
    {
     "data": {
      "text/plain": [
       "defined \u001b[32mfunction\u001b[39m \u001b[36mprogram\u001b[39m"
      ]
     },
     "execution_count": 8,
     "metadata": {},
     "output_type": "execute_result"
    }
   ],
   "source": [
    "def program[P, Q, R]:((P, Either[Q, R])) => Either[(P, Q), (P, R)] =\n",
    "    (t : (P, Either[Q, R])) => \n",
    "        Left((??? : P, ??? : Q)) : Either[(P, Q), (P, R)]"
   ]
  },
  {
   "cell_type": "code",
   "execution_count": 9,
   "metadata": {},
   "outputs": [
    {
     "data": {
      "text/plain": [
       "defined \u001b[32mfunction\u001b[39m \u001b[36mprogram\u001b[39m"
      ]
     },
     "execution_count": 9,
     "metadata": {},
     "output_type": "execute_result"
    }
   ],
   "source": [
    "def program[P, Q, R]:((P, Either[Q, R])) => Either[(P, Q), (P, R)] =\n",
    "    (t : (P, Either[Q, R])) => \n",
    "            t._2 match{\n",
    "                case Left (q : Q) => \n",
    "                    Left((t._1 : P, q : Q)) : Either[(P, Q), (P, R)]\n",
    "                case Right (r : R) => \n",
    "                    Right((??? : P, ??? : R )) : Either[(P, Q), (P, R)] //Tenemos que volver al principio y dar la solucion de la derecha\n",
    "            }\n"
   ]
  },
  {
   "cell_type": "code",
   "execution_count": 11,
   "metadata": {},
   "outputs": [
    {
     "data": {
      "text/plain": [
       "defined \u001b[32mfunction\u001b[39m \u001b[36mprogram\u001b[39m"
      ]
     },
     "execution_count": 11,
     "metadata": {},
     "output_type": "execute_result"
    }
   ],
   "source": [
    "def programFinal[P, Q, R]:((P, Either[Q, R])) => Either[(P, Q), (P, R)] =\n",
    "    (t : (P, Either[Q, R])) => \n",
    "            t._2 match{\n",
    "                case Left (q : Q) => \n",
    "                    Left((t._1 : P, q : Q)) : Either[(P, Q), (P, R)]\n",
    "                case Right (r : R) => \n",
    "                    Right((t._1 : P, r : R )) : Either[(P, Q), (P, R)] \n",
    "            }\n"
   ]
  },
  {
   "cell_type": "code",
   "execution_count": 15,
   "metadata": {},
   "outputs": [],
   "source": [
    "//Hacemos el mismo programa siguiendo los mismos pasos de la deduccion lógica de Gensen"
   ]
  },
  {
   "cell_type": "code",
   "execution_count": 12,
   "metadata": {},
   "outputs": [
    {
     "data": {
      "text/plain": [
       "defined \u001b[32mfunction\u001b[39m \u001b[36mprogram\u001b[39m"
      ]
     },
     "execution_count": 12,
     "metadata": {},
     "output_type": "execute_result"
    }
   ],
   "source": [
    "def program[P, Q, R]:((P, Either[Q, R])) => Either[(P, Q), (P, R)] =\n",
    "// 1     p ∧ (q ∨ r) \n",
    "// 1.1   p \n",
    "// 1.2   q ∨ r \n",
    "                             \n",
    "// 1.3   q\n",
    "   // 1.3.1 p ∧ q \n",
    "// 1.3.2 (p ∧ q) ∨ (p ∧ r)\n",
    "            \n",
    "// 1.4   r\n",
    "// 1.4.1 p ∧ r \n",
    "// 1.4.2 (p ∧ q) ∨ (p ∧ r)\n",
    "            \n",
    "// 1.5   (p ∧ q) ∨ (p ∧ r)\n",
    "??? : (((P, Either[Q, R])) => Either[(P, Q), (P, R)]) // 2     p ∧ (q ∨ r) ⟶ (p ∧ q) ∨ (p ∧ r)    \n"
   ]
  },
  {
   "cell_type": "code",
   "execution_count": 13,
   "metadata": {},
   "outputs": [
    {
     "data": {
      "text/plain": [
       "defined \u001b[32mfunction\u001b[39m \u001b[36mprogram\u001b[39m"
      ]
     },
     "execution_count": 13,
     "metadata": {},
     "output_type": "execute_result"
    }
   ],
   "source": [
    "def program[P, Q, R]:((P, Either[Q, R])) => Either[(P, Q), (P, R)] =\n",
    "    {(_1 : (P, Either[Q, R])) =>               // 1     p ∧ (q ∨ r) PREMISA\n",
    "        val _1_1 : P = _1._1                   // 1.1   p \n",
    "        val _1_2 : Either[Q, R] = _1._2        // 1.2   q ∨ r \n",
    "        (_1_2 match {\n",
    "            case Left(_1_3 : Q) =>                     \n",
    "                // 1.3   q PREMISA\n",
    "                val _1_3_1: (P, Q) = (_1_1, _1_3)\n",
    "                // 1.3.1 p ∧ q \n",
    "                Left(_1_3_1)\n",
    "                // 1.3.2 (p ∧ q) ∨ (p ∧ r)\n",
    "            \n",
    "            case Right(_1_4 : R) =>\n",
    "                // 1.4   r PREMISA\n",
    "                val _1_4_1 : (P, R) = (_1_1, _1_4)\n",
    "                // 1.4.1 p ∧ r \n",
    "                Right(_1_4_1)\n",
    "                // 1.4.2 (p ∧ q) ∨ (p ∧ r)\n",
    "            \n",
    "        }) : Either [(P, Q), (P, R)]\n",
    "        // 1.5   (p ∧ q) ∨ (p ∧ r)\n",
    "     }: (((P, Either[Q, R])) => Either[(P, Q), (P, R)]) \n",
    "    // 2     p ∧ (q ∨ r) ⟶ (p ∧ q) ∨ (p ∧ r)    \n",
    "\n",
    "//Vemos que funciona perfectamente, por lo que la correspondencia entre la logica y la programacion es 1 a 1"
   ]
  },
  {
   "cell_type": "code",
   "execution_count": null,
   "metadata": {},
   "outputs": [],
   "source": []
  },
  {
   "cell_type": "code",
   "execution_count": 14,
   "metadata": {},
   "outputs": [
    {
     "data": {
      "text/plain": [
       "defined \u001b[32mfunction\u001b[39m \u001b[36mprogram\u001b[39m"
      ]
     },
     "execution_count": 14,
     "metadata": {},
     "output_type": "execute_result"
    }
   ],
   "source": [
    "//EJERCICIO PROPUESTO\n",
    "def program[P, Q] : ((P => Q, P)) => Q =\n",
    "    ???"
   ]
  },
  {
   "cell_type": "code",
   "execution_count": 15,
   "metadata": {},
   "outputs": [
    {
     "data": {
      "text/plain": [
       "defined \u001b[32mfunction\u001b[39m \u001b[36mprogram\u001b[39m"
      ]
     },
     "execution_count": 15,
     "metadata": {},
     "output_type": "execute_result"
    }
   ],
   "source": [
    "def program[P, Q] : ((P => Q, P)) => Q =\n",
    "    (_1 : (P => Q, P)) => \n",
    "        ??? : Q"
   ]
  },
  {
   "cell_type": "code",
   "execution_count": 18,
   "metadata": {},
   "outputs": [
    {
     "data": {
      "text/plain": [
       "defined \u001b[32mfunction\u001b[39m \u001b[36mprogram\u001b[39m"
      ]
     },
     "execution_count": 18,
     "metadata": {},
     "output_type": "execute_result"
    }
   ],
   "source": [
    "//Siguiendo la deduccion lógica \n",
    "def program[P, Q] : ((P => Q, P)) => Q =\n",
    "    {(_1 : (P => Q, P)) => \n",
    "        val _1_1 : P => Q = _1._1\n",
    "        val _1_2 : P = _1._2\n",
    "        _1_1(_1_2) : Q\n",
    "    } : (((P => Q, P)) => Q)"
   ]
  },
  {
   "cell_type": "code",
   "execution_count": 16,
   "metadata": {},
   "outputs": [
    {
     "data": {
      "text/plain": [
       "defined \u001b[32mfunction\u001b[39m \u001b[36mprogram\u001b[39m"
      ]
     },
     "execution_count": 16,
     "metadata": {},
     "output_type": "execute_result"
    }
   ],
   "source": [
    "//Progama corto\n",
    "def program[P, Q] : ((P => Q, P)) => Q =\n",
    "    { \n",
    "        case (f, p) => f(p)        //f es (P=>Q) y p es (P)\n",
    "    } "
   ]
  },
  {
   "cell_type": "code",
   "execution_count": null,
   "metadata": {},
   "outputs": [],
   "source": []
  },
  {
   "cell_type": "code",
   "execution_count": 19,
   "metadata": {},
   "outputs": [
    {
     "data": {
      "text/plain": [
       "defined \u001b[32mfunction\u001b[39m \u001b[36mproof\u001b[39m"
      ]
     },
     "execution_count": 19,
     "metadata": {},
     "output_type": "execute_result"
    }
   ],
   "source": [
    "//EJERCICIO PROPUESTO\n",
    "// P -> Q  y NO P -> Q \n",
    "def proof[P, Q]: Either[P, Q] => (P => Nothing) => Q =\n",
    "    ???"
   ]
  },
  {
   "cell_type": "code",
   "execution_count": 20,
   "metadata": {},
   "outputs": [
    {
     "data": {
      "text/plain": [
       "defined \u001b[32mfunction\u001b[39m \u001b[36mproof\u001b[39m"
      ]
     },
     "execution_count": 20,
     "metadata": {},
     "output_type": "execute_result"
    }
   ],
   "source": [
    "def proof[P, Q]: Either[P, Q] => ((P => Nothing) => Q) =\n",
    "    (e : Either[P, Q]) => ??? : ((P => Nothing) => Q)"
   ]
  },
  {
   "cell_type": "code",
   "execution_count": 21,
   "metadata": {},
   "outputs": [
    {
     "data": {
      "text/plain": [
       "defined \u001b[32mfunction\u001b[39m \u001b[36mproof\u001b[39m"
      ]
     },
     "execution_count": 21,
     "metadata": {},
     "output_type": "execute_result"
    }
   ],
   "source": [
    "def proof[P, Q]: Either[P, Q] => ((P => Nothing) => Q) =\n",
    "    (e : Either[P, Q]) => \n",
    "        (notP : P => Nothing) =>\n",
    "            ??? : Q"
   ]
  },
  {
   "cell_type": "code",
   "execution_count": 22,
   "metadata": {},
   "outputs": [
    {
     "data": {
      "text/plain": [
       "defined \u001b[32mfunction\u001b[39m \u001b[36mproof\u001b[39m"
      ]
     },
     "execution_count": 22,
     "metadata": {},
     "output_type": "execute_result"
    }
   ],
   "source": [
    "def proof[P, Q]: Either[P, Q] => ((P => Nothing) => Q) =\n",
    "    (e : Either[P, Q]) => \n",
    "        (notP : P => Nothing) =>\n",
    "            e match{\n",
    "                case Left(p : P) =>\n",
    "                    notP(p) : Q        // notP(p) devuelve un nothing. Y de nothing podemos devolver lo que sea porque nothing puede pertenecer a cualquier tipo\n",
    "                case Right(q : Q) =>\n",
    "                    q : Q\n",
    "            }"
   ]
  },
  {
   "cell_type": "code",
   "execution_count": null,
   "metadata": {},
   "outputs": [],
   "source": []
  },
  {
   "cell_type": "code",
   "execution_count": 24,
   "metadata": {},
   "outputs": [
    {
     "data": {
      "text/plain": [
       "defined \u001b[32mfunction\u001b[39m \u001b[36mprogram\u001b[39m"
      ]
     },
     "execution_count": 24,
     "metadata": {},
     "output_type": "execute_result"
    }
   ],
   "source": [
    "//Ejercicio\n",
    "def program[P, Q]: (P => Q) => (Not[Q] => Not[P]) =\n",
    "    (f: P => Q) =>\n",
    "        ??? : (Not[Q] => Not[P]) "
   ]
  },
  {
   "cell_type": "code",
   "execution_count": 25,
   "metadata": {},
   "outputs": [
    {
     "data": {
      "text/plain": [
       "defined \u001b[32mfunction\u001b[39m \u001b[36mprogram\u001b[39m"
      ]
     },
     "execution_count": 25,
     "metadata": {},
     "output_type": "execute_result"
    }
   ],
   "source": [
    "def program[P, Q]: (P => Q) => (Not[Q] => Not[P]) =\n",
    "    (f: P => Q) =>\n",
    "        (notQ : Not[Q]) =>\n",
    "            (p:P) =>\n",
    "                notQ(??? : Q) : Nothing"
   ]
  },
  {
   "cell_type": "code",
   "execution_count": 23,
   "metadata": {},
   "outputs": [
    {
     "data": {
      "text/plain": [
       "defined \u001b[32mfunction\u001b[39m \u001b[36mprogram\u001b[39m"
      ]
     },
     "execution_count": 23,
     "metadata": {},
     "output_type": "execute_result"
    }
   ],
   "source": [
    "def program[P, Q]: (P => Q) => (Not[Q] => Not[P]) =\n",
    "    (f: P => Q) =>\n",
    "        (notQ : Q => Nothing) =>\n",
    "            (p : P) =>\n",
    "                notQ(f(p : P) : Q) : Nothing"
   ]
  },
  {
   "cell_type": "code",
   "execution_count": 26,
   "metadata": {},
   "outputs": [
    {
     "data": {
      "text/plain": [
       "defined \u001b[32mfunction\u001b[39m \u001b[36mprogram\u001b[39m"
      ]
     },
     "execution_count": 26,
     "metadata": {},
     "output_type": "execute_result"
    }
   ],
   "source": [
    "//Solucion Abreviada\n",
    "def program[P, Q]: (P => Q) => (Not[Q] => Not[P]) =\n",
    "    f =>\n",
    "        notQ =>\n",
    "            p =>\n",
    "                notQ(f(p : P) : Q) : Nothing"
   ]
  },
  {
   "cell_type": "code",
   "execution_count": null,
   "metadata": {},
   "outputs": [],
   "source": []
  },
  {
   "cell_type": "code",
   "execution_count": 2,
   "metadata": {},
   "outputs": [
    {
     "data": {
      "text/plain": [
       "defined \u001b[32mfunction\u001b[39m \u001b[36mprogram\u001b[39m"
      ]
     },
     "execution_count": 2,
     "metadata": {},
     "output_type": "execute_result"
    }
   ],
   "source": [
    "//PASO 1\n",
    "def program[P, Q]: Not[(P, Q)] => Either[Not[P], Not[Q]] =\n",
    "    ??? : (Not[(P, Q)] => Either[Not[P], Not[Q]])"
   ]
  },
  {
   "cell_type": "code",
   "execution_count": 3,
   "metadata": {},
   "outputs": [
    {
     "data": {
      "text/plain": [
       "defined \u001b[32mfunction\u001b[39m \u001b[36mprogram\u001b[39m"
      ]
     },
     "execution_count": 3,
     "metadata": {},
     "output_type": "execute_result"
    }
   ],
   "source": [
    "//PASO 2\n",
    "def program[P, Q]: Not[(P, Q)] => Either[Not[P], Not[Q]] =\n",
    "    (t : Not[(P, Q)]) =>\n",
    "        ??? : Either[Not[P], Not[Q]]"
   ]
  },
  {
   "cell_type": "code",
   "execution_count": 4,
   "metadata": {},
   "outputs": [
    {
     "data": {
      "text/plain": [
       "defined \u001b[32mfunction\u001b[39m \u001b[36mprogram\u001b[39m"
      ]
     },
     "execution_count": 4,
     "metadata": {},
     "output_type": "execute_result"
    }
   ],
   "source": [
    "//PASO 3\n",
    "def program[P, Q]: Not[(P, Q)] => Either[Not[P], Not[Q]] =\n",
    "    (t : Not[(P, Q)]) =>\n",
    "        Left((p : P) => ??? : Nothing) : Either[Not[P], Not[Q]]  //Not[P] es lo mismo que P=> Nothing"
   ]
  },
  {
   "cell_type": "code",
   "execution_count": 4,
   "metadata": {},
   "outputs": [
    {
     "name": "stderr",
     "output_type": "stream",
     "text": [
      "cmd4.sc:3: not found: type P\n",
      "        val res4_1 = Left((p : P) => notPandQ((??? : P, ??? : Q)) : Nothing) \n",
      "                               ^cmd4.sc:3: not found: value notPandQ\n",
      "        val res4_1 = Left((p : P) => notPandQ((??? : P, ??? : Q)) : Nothing) \n",
      "                                     ^cmd4.sc:3: not found: type P\n",
      "        val res4_1 = Left((p : P) => notPandQ((??? : P, ??? : Q)) : Nothing) \n",
      "                                                     ^cmd4.sc:3: not found: type Q\n",
      "        val res4_1 = Left((p : P) => notPandQ((??? : P, ??? : Q)) : Nothing) \n",
      "                                                              ^cmd4.sc:2: not found: value notPandQ\n",
      "    (notPandQ : ((P, Q)) => Nothing)\n",
      "     ^cmd4.sc:2: type mismatch;\n",
      " found   : ((P, Q)) => Nothing\n",
      " required: cmd4.this.cmd0.Not[(P, Q)] => Either[cmd4.this.cmd0.Not[P],cmd4.this.cmd0.Not[Q]]\n",
      "    (which expands to)  (((P, Q)) => Nothing) => Either[P => Nothing,Q => Nothing]\n",
      "    (notPandQ : ((P, Q)) => Nothing)\n",
      "              ^Compilation Failed"
     ]
    },
    {
     "ename": "",
     "evalue": "",
     "output_type": "error",
     "traceback": [
      "Compilation Failed"
     ]
    }
   ],
   "source": [
    "//PASO 3\n",
    "def program[P, Q]: Not[(P, Q)] => Either[Not[P], Not[Q]] =\n",
    "    (notPandQ : ((P, Q)) => Nothing)\n",
    "        Left((p : P) => notPandQ((??? : P, ??? : Q)) : Nothing) "
   ]
  },
  {
   "cell_type": "code",
   "execution_count": 4,
   "metadata": {},
   "outputs": [
    {
     "name": "stderr",
     "output_type": "stream",
     "text": [
      "(console):1: not a legal formal parameter.\n",
      "Note: Tuples cannot be directly destructured in method or function parameters.\n",
      "      Either create a single parameter accepting the Tuple1,\n",
      "      or consider a pattern matching anonymous function: `{ case (param1, param1) => ... }\n",
      "Left((p : P) => notPandQ((p : P, ??? : Q)) => Nothing) : Either[Not[P], Not[Q]]  //No podemos conseguir una instancia de Q\n",
      "                        ^"
     ]
    },
    {
     "ename": "",
     "evalue": "",
     "output_type": "error",
     "traceback": [
      "(console):1: not a legal formal parameter.\nNote: Tuples cannot be directly destructured in method or function parameters.\n      Either create a single parameter accepting the Tuple1,\n      or consider a pattern matching anonymous function: `{ case (param1, param1) => ... }\nLeft((p : P) => notPandQ((p : P, ??? : Q)) => Nothing) : Either[Not[P], Not[Q]]  //No podemos conseguir una instancia de Q\n                        ^"
     ]
    }
   ],
   "source": [
    "//PASO 3\n",
    "def program[P, Q]: Not[(P, Q)] => Either[Not[P], Not[Q]] =\n",
    "    (notPandQ : ((P, Q)) => Nothing)\n",
    "        Left((p : P) => notPandQ((p : P, ??? : Q)) => Nothing) : Either[Not[P], Not[Q]]  //No podemos conseguir una instancia de Q\n",
    "                                                                                         // Vamos a probar con Right"
   ]
  },
  {
   "cell_type": "code",
   "execution_count": 7,
   "metadata": {},
   "outputs": [
    {
     "name": "stderr",
     "output_type": "stream",
     "text": [
      "(console):3:62 expected (Semis | &\"}\" | end-of-input)\n",
      "        Right(q : Q) => notPandQ((??? : P, q : Q)) => Nothing)\n",
      "                                                             ^"
     ]
    },
    {
     "ename": "",
     "evalue": "",
     "output_type": "error",
     "traceback": [
      "(console):3:62 expected (Semis | &\"}\" | end-of-input)\n        Right(q : Q) => notPandQ((??? : P, q : Q)) => Nothing)\n                                                             ^"
     ]
    }
   ],
   "source": [
    "def program[P, Q]: Not[(P, Q)] => Either[Not[P], Not[Q]] =\n",
    "    (notPandQ : ((P, Q)) => Nothing) =>\n",
    "        Right(q : Q) => notPandQ((??? : P, q : Q)) => Nothing)\n",
    "\n",
    "//No podemos encontrar una solucion para esta proposicion\n",
    "//No se puede implementar, esta proposicion no es un teorema de la lógica intucionista"
   ]
  },
  {
   "cell_type": "code",
   "execution_count": null,
   "metadata": {},
   "outputs": [],
   "source": []
  },
  {
   "cell_type": "code",
   "execution_count": 4,
   "metadata": {},
   "outputs": [],
   "source": [
    "//Ley de la doble negacion"
   ]
  },
  {
   "cell_type": "code",
   "execution_count": 6,
   "metadata": {},
   "outputs": [
    {
     "data": {
      "text/plain": [
       "defined \u001b[32mfunction\u001b[39m \u001b[36mprogram\u001b[39m"
      ]
     },
     "execution_count": 6,
     "metadata": {},
     "output_type": "execute_result"
    }
   ],
   "source": [
    "def program[P]: Not[Not[P]] => P =\n",
    "    (notnotP : Not[Not[P]]) => ??? : P"
   ]
  },
  {
   "cell_type": "code",
   "execution_count": 7,
   "metadata": {},
   "outputs": [
    {
     "data": {
      "text/plain": [
       "defined \u001b[32mfunction\u001b[39m \u001b[36mprogram\u001b[39m"
      ]
     },
     "execution_count": 7,
     "metadata": {},
     "output_type": "execute_result"
    }
   ],
   "source": [
    "def program[P]: Not[Not[P]] => P =\n",
    "    (notnotP : (P => Nothing) => Nothing) => ??? : P \n",
    "//No se puede implementar, esta proposicion no es un teorema de la lógica intucionista\n",
    "//No podemos conseguir una demostracion de p para poder demostrar que de p obtenemos nothing"
   ]
  },
  {
   "cell_type": "code",
   "execution_count": null,
   "metadata": {},
   "outputs": [],
   "source": []
  },
  {
   "cell_type": "code",
   "execution_count": 8,
   "metadata": {},
   "outputs": [
    {
     "data": {
      "text/plain": [
       "defined \u001b[32mfunction\u001b[39m \u001b[36mprogram\u001b[39m"
      ]
     },
     "execution_count": 8,
     "metadata": {},
     "output_type": "execute_result"
    }
   ],
   "source": [
    "//Paso 1\n",
    "def program[P, Q](thirdMiddleP: Either[P, Not[P]]): Not[(P, Q)] => Either[Not[P], Not[Q]] = \n",
    "    ???\n"
   ]
  },
  {
   "cell_type": "code",
   "execution_count": 9,
   "metadata": {},
   "outputs": [
    {
     "data": {
      "text/plain": [
       "defined \u001b[32mfunction\u001b[39m \u001b[36mprogram\u001b[39m"
      ]
     },
     "execution_count": 9,
     "metadata": {},
     "output_type": "execute_result"
    }
   ],
   "source": [
    "//Paso 2\n",
    "def program[P, Q](thirdMiddleP: Either[P, Not[P]]): Not[(P, Q)] => Either[Not[P], Not[Q]] = \n",
    "    (notPandQ : Not[(P, Q)]) =>\n",
    "              thirdMiddleP match{\n",
    "                  case Left(p : P) =>\n",
    "                      ??? : Either[Not[P], Not[Q]]\n",
    "                  case Left(notP : Not[P]) =>\n",
    "                      ??? : Either[Not[P], Not[Q]]\n",
    "              }\n",
    "        )"
   ]
  },
  {
   "cell_type": "code",
   "execution_count": 10,
   "metadata": {},
   "outputs": [
    {
     "data": {
      "text/plain": [
       "defined \u001b[32mfunction\u001b[39m \u001b[36mprogram\u001b[39m"
      ]
     },
     "execution_count": 10,
     "metadata": {},
     "output_type": "execute_result"
    }
   ],
   "source": [
    "//Paso 3\n",
    "def program[P, Q](thirdMiddleP: Either[P, Not[P]]): Not[(P, Q)] => Either[Not[P], Not[Q]] = \n",
    "    (notPandQ : Not[(P, Q)]) =>\n",
    "              thirdMiddleP match{\n",
    "                  case Left(p : P) =>\n",
    "                      Right((q : Q) => notPandQ(p, q)) : Either[Not[P], Not[Q]]\n",
    "                  case Left(notP : Not[P]) =>\n",
    "                      Left(notP) : Either[Not[P], Not[Q]]\n",
    "              }\n",
    "        "
   ]
  },
  {
   "cell_type": "code",
   "execution_count": 11,
   "metadata": {},
   "outputs": [
    {
     "data": {
      "text/plain": [
       "defined \u001b[32mfunction\u001b[39m \u001b[36mprogram\u001b[39m"
      ]
     },
     "execution_count": 11,
     "metadata": {},
     "output_type": "execute_result"
    }
   ],
   "source": []
  },
  {
   "cell_type": "code",
   "execution_count": 12,
   "metadata": {},
   "outputs": [
    {
     "data": {
      "text/plain": [
       "defined \u001b[32mfunction\u001b[39m \u001b[36mprogram\u001b[39m"
      ]
     },
     "execution_count": 12,
     "metadata": {},
     "output_type": "execute_result"
    }
   ],
   "source": []
  },
  {
   "cell_type": "code",
   "execution_count": 13,
   "metadata": {},
   "outputs": [
    {
     "data": {
      "text/plain": [
       "defined \u001b[32mfunction\u001b[39m \u001b[36mprogram\u001b[39m"
      ]
     },
     "execution_count": 13,
     "metadata": {},
     "output_type": "execute_result"
    }
   ],
   "source": []
  },
  {
   "cell_type": "code",
   "execution_count": null,
   "metadata": {},
   "outputs": [],
   "source": []
  }
 ],
 "metadata": {
  "kernelspec": {
   "display_name": "Scala 2.12",
   "language": "scala",
   "name": "scala212"
  },
  "language_info": {
   "codemirror_mode": "text/x-scala",
   "file_extension": ".sc",
   "mimetype": "text/x-scala",
   "name": "scala",
   "nbconvert_exporter": "script",
   "version": "2.12.12"
  }
 },
 "nbformat": 4,
 "nbformat_minor": 4
}
